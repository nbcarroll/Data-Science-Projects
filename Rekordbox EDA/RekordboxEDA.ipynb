{
 "cells": [
  {
   "cell_type": "markdown",
   "metadata": {},
   "source": [
    "## Introduction\n",
    "Rekordbox, a program utilized by DJ's to organize individual songs/tracks (I'll use these terms interchangably) in a database, is rich with metadata. The songs/tracks in most DJ's libraries comes from a wide variety of sources with varying standards of completeness in terms of metadata tagging. As such it represents an unclean dataset that's ripe for data cleaning and exploratory data analysis.\n",
    "\n",
    "#### Data\n",
    "Rekordbox data can be exported in XML, which is a plain text format utilized for storing data. After exporting my database in XML Format from within Rekordbox, I converted the XML file to a CSV for easier analysis using <a href='https://www.convertcsv.com/xml-to-csv.htm'>the following website</a>.\n",
    "\n",
    "#### Results / Insights\n",
    "For description and further analysis, please refer to the EDA section.\n",
    "\n",
    "1. Over 50% of my music is between 120 to 132 Beats Per Minute.\n",
    "2. At least 75% of my tracks have been played 3 times or less and 25% I haven't even played once."
   ]
  },
  {
   "cell_type": "markdown",
   "metadata": {},
   "source": [
    "---"
   ]
  },
  {
   "cell_type": "markdown",
   "metadata": {},
   "source": [
    "# Preliminary EDA\n",
    "My initial rekordbox file contains 5413 tracks containing 92 features. The majority of these features are utilized for identifying specific time stamp and can be identifed by their beginning with 'POSITION_MARK'. These columns aren't necessary for the analysis, so they will be deleted."
   ]
  },
  {
   "cell_type": "code",
   "execution_count": 172,
   "metadata": {},
   "outputs": [
    {
     "name": "stdout",
     "output_type": "stream",
     "text": [
      "<class 'pandas.core.frame.DataFrame'>\n",
      "RangeIndex: 5414 entries, 0 to 5413\n",
      "Columns: 92 entries, _TrackID to POSITION_MARK/8/_Num\n",
      "dtypes: float64(60), int64(10), object(22)\n",
      "memory usage: 3.8+ MB\n",
      "\n",
      "Example Row from Dataset\n"
     ]
    },
    {
     "data": {
      "text/html": [
       "<div>\n",
       "<style scoped>\n",
       "    .dataframe tbody tr th:only-of-type {\n",
       "        vertical-align: middle;\n",
       "    }\n",
       "\n",
       "    .dataframe tbody tr th {\n",
       "        vertical-align: top;\n",
       "    }\n",
       "\n",
       "    .dataframe thead th {\n",
       "        text-align: right;\n",
       "    }\n",
       "</style>\n",
       "<table border=\"1\" class=\"dataframe\">\n",
       "  <thead>\n",
       "    <tr style=\"text-align: right;\">\n",
       "      <th></th>\n",
       "      <th>Name</th>\n",
       "      <th>Artist</th>\n",
       "      <th>Composer</th>\n",
       "      <th>Album</th>\n",
       "      <th>Grouping</th>\n",
       "      <th>Genre</th>\n",
       "      <th>Kind</th>\n",
       "      <th>Size</th>\n",
       "      <th>TotalTime</th>\n",
       "      <th>DiscNumber</th>\n",
       "      <th>...</th>\n",
       "      <th>Tonality</th>\n",
       "      <th>Label</th>\n",
       "      <th>Mix</th>\n",
       "      <th>Colour</th>\n",
       "      <th>Genre1</th>\n",
       "      <th>Genre2</th>\n",
       "      <th>Genre3</th>\n",
       "      <th>Genre4</th>\n",
       "      <th>Genre5</th>\n",
       "      <th>Genre_Main</th>\n",
       "    </tr>\n",
       "  </thead>\n",
       "  <tbody>\n",
       "    <tr>\n",
       "      <th>0</th>\n",
       "      <td>Impressions</td>\n",
       "      <td>Zemi17</td>\n",
       "      <td>NaN</td>\n",
       "      <td>Impressions</td>\n",
       "      <td>Yellow</td>\n",
       "      <td>Deep Techno</td>\n",
       "      <td>MP3 File</td>\n",
       "      <td>25152044</td>\n",
       "      <td>627</td>\n",
       "      <td>0</td>\n",
       "      <td>...</td>\n",
       "      <td>6A</td>\n",
       "      <td>NaN</td>\n",
       "      <td>NaN</td>\n",
       "      <td>0xFFFF00</td>\n",
       "      <td>Deep Techno</td>\n",
       "      <td>None</td>\n",
       "      <td>None</td>\n",
       "      <td>None</td>\n",
       "      <td>None</td>\n",
       "      <td>Techno</td>\n",
       "    </tr>\n",
       "  </tbody>\n",
       "</table>\n",
       "<p>1 rows × 31 columns</p>\n",
       "</div>"
      ],
      "text/plain": [
       "          Name  Artist Composer        Album Grouping        Genre      Kind  \\\n",
       "0  Impressions  Zemi17      NaN  Impressions   Yellow  Deep Techno  MP3 File   \n",
       "\n",
       "       Size  TotalTime  DiscNumber  ...  Tonality  Label  Mix    Colour  \\\n",
       "0  25152044        627           0  ...        6A    NaN  NaN  0xFFFF00   \n",
       "\n",
       "        Genre1  Genre2 Genre3  Genre4  Genre5 Genre_Main  \n",
       "0  Deep Techno    None   None    None    None     Techno  \n",
       "\n",
       "[1 rows x 31 columns]"
      ]
     },
     "execution_count": 172,
     "metadata": {},
     "output_type": "execute_result"
    }
   ],
   "source": [
    "# Hide Cell Inputs\n",
    "{\n",
    "    \"tags\": [\n",
    "        \"hide-input\",\n",
    "    ]\n",
    "}\n",
    "\n",
    "# importing necessary packages\n",
    "import pandas as pd\n",
    "import numpy as np\n",
    "import matplotlib.pyplot as plt \n",
    "import seaborn as sns\n",
    "import plotly.express as px\n",
    "\n",
    "df = pd.read_csv('MyRekordboxEDA.csv')\n",
    "df.info(verbose = False) # Remove verbose to see column names\n",
    "\n",
    "# Removing the excessive amount of 'Cue Point' Columns, which all occur after the 25th column\n",
    "df = df.iloc[:,1:26]\n",
    "\n",
    "# Removing Prefix from Column Names\n",
    "df.columns = df.columns.str.lstrip(\"_\")\n",
    "\n",
    "# 'GENRE' FEATURE ENGINEERING...\n",
    "# Multiple Genres are Listed in the same cell. Splitting them up for easier future analysis.\n",
    "df[['Genre1','Genre2','Genre3','Genre4','Genre5']] = df['Genre'].str.split(', ', n=4, expand=True)\n",
    "\n",
    "def MainGenre(row):  \n",
    "    if row['Genre1'] == 'Techno' or row['Genre1'] == 'Deep Techno' or row['Genre1'] == 'Dub Techno' or row['Genre1'] == 'Industrial Techno' :\n",
    "        return 'Techno'\n",
    "    elif row['Genre1'] == 'Drum & Bass' or row['Genre1'] == 'Jungle' or row['Genre1'] == 'Dubstep' or row['Genre1'] == 'Dungeon Dubstep':\n",
    "        return 'Bass Music'\n",
    "    elif row['Genre1'] == 'Electro' or row['Genre1'] == 'Breaks' or row['Genre1'] == 'UK Breaks':\n",
    "        return 'Breaks'\n",
    "    elif row['Genre1'] == 'House':\n",
    "        return 'House'\n",
    "    elif row['Genre1'] == 'Industrial' or row['Genre1'] == 'Acid':\n",
    "        return 'Industrial/Acid'\n",
    "    elif row['Genre1'] == 'Tech House' or row['Genre1'] == 'Minimal / Tech House' or row['Genre1'] == 'Minimal':\n",
    "        return 'Tech House'\n",
    "    elif row['Genre1'] == 'Deep House':\n",
    "        return 'Deep House'\n",
    "    elif row['Genre1'] == 'Left Field' or row['Genre1'] == 'Left Field House' or row['Genre1'] == 'Left Field Techno' or row['Genre1'] == 'Outsider House' or row['Genre1'] == 'Left Field Downtempo':\n",
    "        return 'Left Field'\n",
    "    elif row['Genre1'] == 'Downtempo' or row['Genre1'] == 'Chill Out' or row['Genre1'] == 'Dub':\n",
    "        return 'Downtempo/Dub'\n",
    "    elif row['Genre1'] == 'Rave House' or row['Genre1'] == 'Rave Techno' or row['Genre1'] == 'Rave Breaks' or row['Genre1'] == 'Rave':\n",
    "        return 'Rave'\n",
    "    elif row['Genre1'] == 'Ambient' or row['Genre1'] == 'Beatless' or row['Genre1'] == 'Experimental':\n",
    "        return 'Ambient/Experimental'\n",
    "    elif row['Genre1'] == 'Disco' or row['Genre1'] == 'Soul' or row['Genre1'] == 'Funk' or row['Genre1'] == 'Italo Disco' or row['Genre1'] == 'Nu Disco':\n",
    "        return 'Disco/Funk/Soul'\n",
    "    elif row['Genre1'] == 'EBM' or row['Genre1'] == 'Post-Punk':\n",
    "        return 'EBM/Post-Punk'\n",
    "    return 'Other'\n",
    "\n",
    "# Using These Two Lines to Decipher What is being classified as Other from the previous function. From here, I can assign appropriate Genre_Main (see next step)\n",
    "# a = df[df['Genre_Main'] == 'Other']\n",
    "# a['Genre1'].value_counts()\n",
    "# To DO... Create a category for Multi-Genre... interested in music that's harder to classify, since find artist is saying something that hasn't been done before\n",
    "\n",
    "df['Genre_Main'] = df.apply(lambda row: MainGenre(row), axis=1)\n",
    "# df[df['Genre_Main'] == 'Other']\n",
    "# df['Genre_Main'].value_counts() # TO DO to Figure 'Other' Out.. there's still a lot of genres that aren't classified correc\n",
    "\n",
    "# Dropping the 1k songs where Genre = Other\n",
    "df = df[df['Genre_Main'] != 'Other']\n",
    "\n",
    "\n",
    "# Effectively Bins Beats Per Minute (BPM) of Individual Tracks. For example, rekordbox might classify a song that's 125 bpm as 125.01 or 125.05 bpm. This makes that song 125 bpm.\n",
    "df['AverageBpm'] = df['AverageBpm'].astype(int)\n",
    "\n",
    "print('\\nExample Row from Dataset')\n",
    "df.head(1)"
   ]
  },
  {
   "cell_type": "markdown",
   "metadata": {},
   "source": [
    "<B> Utilizing the Describe Method</b>, I uncovered the following particularly useful insights...<br>\n",
    "- AverageBPM\n",
    "    - 'Year' has a minimum value of 0, which means that some of my tracks don't have the year categorized.\n",
    "        - After <i>running 'df[df['Year'] == 0]'</i>, I found that 1,344 songs don't have the year listed.\n",
    "- PlayCount\n",
    "    - At least 75% of my tracks have been played 3 times or less and 25% I haven't even played once!\n",
    "- TotalTime\n",
    "    - Is listed in seconds. Maybe I should turn into min + sec?\n",
    "        - Later on something that might be interesting to do is grouping songs by decade and seeing if I can guess the Genre based on the track length and genre."
   ]
  },
  {
   "cell_type": "code",
   "execution_count": 173,
   "metadata": {},
   "outputs": [
    {
     "data": {
      "text/html": [
       "<div>\n",
       "<style scoped>\n",
       "    .dataframe tbody tr th:only-of-type {\n",
       "        vertical-align: middle;\n",
       "    }\n",
       "\n",
       "    .dataframe tbody tr th {\n",
       "        vertical-align: top;\n",
       "    }\n",
       "\n",
       "    .dataframe thead th {\n",
       "        text-align: right;\n",
       "    }\n",
       "</style>\n",
       "<table border=\"1\" class=\"dataframe\">\n",
       "  <thead>\n",
       "    <tr style=\"text-align: right;\">\n",
       "      <th></th>\n",
       "      <th>Size</th>\n",
       "      <th>TotalTime</th>\n",
       "      <th>DiscNumber</th>\n",
       "      <th>TrackNumber</th>\n",
       "      <th>Year</th>\n",
       "      <th>AverageBpm</th>\n",
       "      <th>BitRate</th>\n",
       "      <th>SampleRate</th>\n",
       "      <th>PlayCount</th>\n",
       "      <th>Rating</th>\n",
       "    </tr>\n",
       "  </thead>\n",
       "  <tbody>\n",
       "    <tr>\n",
       "      <th>count</th>\n",
       "      <td>3955.000000</td>\n",
       "      <td>3955.000000</td>\n",
       "      <td>3955.000000</td>\n",
       "      <td>3955.000000</td>\n",
       "      <td>3955.000000</td>\n",
       "      <td>3955.000000</td>\n",
       "      <td>3955.000000</td>\n",
       "      <td>3955.000000</td>\n",
       "      <td>3955.000000</td>\n",
       "      <td>3955.000000</td>\n",
       "    </tr>\n",
       "    <tr>\n",
       "      <th>mean</th>\n",
       "      <td>55258703.391150</td>\n",
       "      <td>391.564096</td>\n",
       "      <td>0.094311</td>\n",
       "      <td>3.265740</td>\n",
       "      <td>1579.840708</td>\n",
       "      <td>123.707965</td>\n",
       "      <td>1142.040455</td>\n",
       "      <td>44531.453856</td>\n",
       "      <td>2.704425</td>\n",
       "      <td>130.652845</td>\n",
       "    </tr>\n",
       "    <tr>\n",
       "      <th>std</th>\n",
       "      <td>36657514.956020</td>\n",
       "      <td>122.256977</td>\n",
       "      <td>0.319578</td>\n",
       "      <td>8.444015</td>\n",
       "      <td>836.508802</td>\n",
       "      <td>20.625019</td>\n",
       "      <td>680.344509</td>\n",
       "      <td>4432.656527</td>\n",
       "      <td>3.595840</td>\n",
       "      <td>58.798255</td>\n",
       "    </tr>\n",
       "    <tr>\n",
       "      <th>min</th>\n",
       "      <td>305338.000000</td>\n",
       "      <td>7.000000</td>\n",
       "      <td>0.000000</td>\n",
       "      <td>0.000000</td>\n",
       "      <td>0.000000</td>\n",
       "      <td>0.000000</td>\n",
       "      <td>0.000000</td>\n",
       "      <td>44100.000000</td>\n",
       "      <td>0.000000</td>\n",
       "      <td>0.000000</td>\n",
       "    </tr>\n",
       "    <tr>\n",
       "      <th>25%</th>\n",
       "      <td>18183095.500000</td>\n",
       "      <td>316.000000</td>\n",
       "      <td>0.000000</td>\n",
       "      <td>1.000000</td>\n",
       "      <td>1994.000000</td>\n",
       "      <td>120.000000</td>\n",
       "      <td>320.000000</td>\n",
       "      <td>44100.000000</td>\n",
       "      <td>0.000000</td>\n",
       "      <td>102.000000</td>\n",
       "    </tr>\n",
       "    <tr>\n",
       "      <th>50%</th>\n",
       "      <td>58012036.000000</td>\n",
       "      <td>376.000000</td>\n",
       "      <td>0.000000</td>\n",
       "      <td>2.000000</td>\n",
       "      <td>2012.000000</td>\n",
       "      <td>126.000000</td>\n",
       "      <td>1411.000000</td>\n",
       "      <td>44100.000000</td>\n",
       "      <td>2.000000</td>\n",
       "      <td>153.000000</td>\n",
       "    </tr>\n",
       "    <tr>\n",
       "      <th>75%</th>\n",
       "      <td>76932256.000000</td>\n",
       "      <td>448.500000</td>\n",
       "      <td>0.000000</td>\n",
       "      <td>4.000000</td>\n",
       "      <td>2017.000000</td>\n",
       "      <td>132.000000</td>\n",
       "      <td>1411.000000</td>\n",
       "      <td>44100.000000</td>\n",
       "      <td>4.000000</td>\n",
       "      <td>153.000000</td>\n",
       "    </tr>\n",
       "    <tr>\n",
       "      <th>max</th>\n",
       "      <td>422234178.000000</td>\n",
       "      <td>1477.000000</td>\n",
       "      <td>3.000000</td>\n",
       "      <td>312.000000</td>\n",
       "      <td>9707.000000</td>\n",
       "      <td>180.000000</td>\n",
       "      <td>9216.000000</td>\n",
       "      <td>192000.000000</td>\n",
       "      <td>34.000000</td>\n",
       "      <td>255.000000</td>\n",
       "    </tr>\n",
       "  </tbody>\n",
       "</table>\n",
       "</div>"
      ],
      "text/plain": [
       "                   Size    TotalTime   DiscNumber  TrackNumber         Year  \\\n",
       "count       3955.000000  3955.000000  3955.000000  3955.000000  3955.000000   \n",
       "mean    55258703.391150   391.564096     0.094311     3.265740  1579.840708   \n",
       "std     36657514.956020   122.256977     0.319578     8.444015   836.508802   \n",
       "min       305338.000000     7.000000     0.000000     0.000000     0.000000   \n",
       "25%     18183095.500000   316.000000     0.000000     1.000000  1994.000000   \n",
       "50%     58012036.000000   376.000000     0.000000     2.000000  2012.000000   \n",
       "75%     76932256.000000   448.500000     0.000000     4.000000  2017.000000   \n",
       "max    422234178.000000  1477.000000     3.000000   312.000000  9707.000000   \n",
       "\n",
       "        AverageBpm      BitRate     SampleRate    PlayCount       Rating  \n",
       "count  3955.000000  3955.000000    3955.000000  3955.000000  3955.000000  \n",
       "mean    123.707965  1142.040455   44531.453856     2.704425   130.652845  \n",
       "std      20.625019   680.344509    4432.656527     3.595840    58.798255  \n",
       "min       0.000000     0.000000   44100.000000     0.000000     0.000000  \n",
       "25%     120.000000   320.000000   44100.000000     0.000000   102.000000  \n",
       "50%     126.000000  1411.000000   44100.000000     2.000000   153.000000  \n",
       "75%     132.000000  1411.000000   44100.000000     4.000000   153.000000  \n",
       "max     180.000000  9216.000000  192000.000000    34.000000   255.000000  "
      ]
     },
     "execution_count": 173,
     "metadata": {},
     "output_type": "execute_result"
    }
   ],
   "source": [
    "df.describe().apply(lambda s: s.apply(lambda x: format(x, 'f'))) #Display Without Scientific Notation"
   ]
  },
  {
   "cell_type": "markdown",
   "metadata": {},
   "source": [
    "<b>Table of Columns With the Highest % of Missing Values</b>"
   ]
  },
  {
   "cell_type": "code",
   "execution_count": 174,
   "metadata": {},
   "outputs": [
    {
     "data": {
      "text/html": [
       "<div>\n",
       "<style scoped>\n",
       "    .dataframe tbody tr th:only-of-type {\n",
       "        vertical-align: middle;\n",
       "    }\n",
       "\n",
       "    .dataframe tbody tr th {\n",
       "        vertical-align: top;\n",
       "    }\n",
       "\n",
       "    .dataframe thead th {\n",
       "        text-align: right;\n",
       "    }\n",
       "</style>\n",
       "<table border=\"1\" class=\"dataframe\">\n",
       "  <thead>\n",
       "    <tr style=\"text-align: right;\">\n",
       "      <th></th>\n",
       "      <th>column_name</th>\n",
       "      <th>percent_missing</th>\n",
       "    </tr>\n",
       "  </thead>\n",
       "  <tbody>\n",
       "    <tr>\n",
       "      <th>Genre5</th>\n",
       "      <td>Genre5</td>\n",
       "      <td>99.949431</td>\n",
       "    </tr>\n",
       "    <tr>\n",
       "      <th>Genre4</th>\n",
       "      <td>Genre4</td>\n",
       "      <td>99.317320</td>\n",
       "    </tr>\n",
       "    <tr>\n",
       "      <th>Mix</th>\n",
       "      <td>Mix</td>\n",
       "      <td>99.089760</td>\n",
       "    </tr>\n",
       "    <tr>\n",
       "      <th>Remixer</th>\n",
       "      <td>Remixer</td>\n",
       "      <td>97.446271</td>\n",
       "    </tr>\n",
       "    <tr>\n",
       "      <th>Composer</th>\n",
       "      <td>Composer</td>\n",
       "      <td>95.372946</td>\n",
       "    </tr>\n",
       "    <tr>\n",
       "      <th>Genre3</th>\n",
       "      <td>Genre3</td>\n",
       "      <td>91.833123</td>\n",
       "    </tr>\n",
       "    <tr>\n",
       "      <th>Label</th>\n",
       "      <td>Label</td>\n",
       "      <td>80.834387</td>\n",
       "    </tr>\n",
       "    <tr>\n",
       "      <th>Comments</th>\n",
       "      <td>Comments</td>\n",
       "      <td>72.465234</td>\n",
       "    </tr>\n",
       "    <tr>\n",
       "      <th>Genre2</th>\n",
       "      <td>Genre2</td>\n",
       "      <td>63.388116</td>\n",
       "    </tr>\n",
       "    <tr>\n",
       "      <th>Colour</th>\n",
       "      <td>Colour</td>\n",
       "      <td>17.243995</td>\n",
       "    </tr>\n",
       "    <tr>\n",
       "      <th>Grouping</th>\n",
       "      <td>Grouping</td>\n",
       "      <td>17.243995</td>\n",
       "    </tr>\n",
       "    <tr>\n",
       "      <th>Album</th>\n",
       "      <td>Album</td>\n",
       "      <td>14.285714</td>\n",
       "    </tr>\n",
       "  </tbody>\n",
       "</table>\n",
       "</div>"
      ],
      "text/plain": [
       "         column_name  percent_missing\n",
       "Genre5        Genre5        99.949431\n",
       "Genre4        Genre4        99.317320\n",
       "Mix              Mix        99.089760\n",
       "Remixer      Remixer        97.446271\n",
       "Composer    Composer        95.372946\n",
       "Genre3        Genre3        91.833123\n",
       "Label          Label        80.834387\n",
       "Comments    Comments        72.465234\n",
       "Genre2        Genre2        63.388116\n",
       "Colour        Colour        17.243995\n",
       "Grouping    Grouping        17.243995\n",
       "Album          Album        14.285714"
      ]
     },
     "execution_count": 174,
     "metadata": {},
     "output_type": "execute_result"
    }
   ],
   "source": [
    "# Hide Cell Inputs\n",
    "{\n",
    "    \"tags\": [\n",
    "        \"hide-input\",\n",
    "    ]\n",
    "}\n",
    "\n",
    "# Creating a Table of Highest % of Missing Values\n",
    "percent_missing = df.isnull().sum() * 100 / len(df)\n",
    "missing_value_df = pd.DataFrame({'column_name': df.columns,\n",
    "                                 'percent_missing': percent_missing})\n",
    "\n",
    "# TO DO Round to 3 decimal points and rename column names\n",
    "missing_value_df = missing_value_df.sort_values('percent_missing', ascending=False) # Remove Head to Show More\n",
    "missing_value_df.head(12) # Only 12 columns have missing values"
   ]
  },
  {
   "cell_type": "markdown",
   "metadata": {},
   "source": [
    "# EDA\n",
    "After elementary data cleaning, I conducted univariate analysis and when appropriate did further feature engineering."
   ]
  },
  {
   "cell_type": "markdown",
   "metadata": {},
   "source": [
    "### 1. Grouping\n",
    "The column for 'Grouping' is used in Rekordbox to classify a color to an individual track. In contrast to a feature such as Artist or Song Title which has a common definition, 'Grouping' is up to the discrection of the Rekordbox user what they'd use it for. There have been times where I've grown bored of hearing a specific track, so I'll delete it and later regret it. Since hard drive limitations aren't really an issue, I've become a bit of a music hoarder. I use Grouping (AKA color) in Rekordbox as follows...\n",
    "- <font color='Green'>Green</font> = These are my gold medal tracks. I LOVE this track and I'd love to play it out.\n",
    "- <font color='Aqua'>Aqua</font> = Think of this as a Silver Medalist. I really like this track and I'll likely play it at a gig if the time is the right\n",
    "- <font color='Yellow'>Yellow</font> = I have no plans of deleting this track anytime soon, it's just I'm either bored of playing it or might only play it since it blends well with something in the Aqua or Green Categories\n",
    "- <font color='Pink'>Pink</font> = Need to Classify still\n",
    "- <font color='Orange'>Orange</font> and <font color='Red'>Red</font> = I'll probably delete these tracks, but haven't quite yet. Sometimes I'll classify tracks like this that either a remaster is available or a better quality version, but I haven't gotten around to buying it.\n",
    "- <font color='Purple'>Purple</font> and <font color='Blue'>Blue</font> = These exist, but not quite sure what they represent yet... this is why having a data dictionary is important..."
   ]
  },
  {
   "cell_type": "code",
   "execution_count": 175,
   "metadata": {},
   "outputs": [
    {
     "data": {
      "image/png": "[encoded data removed]",
      "text/plain": [
       "<Figure size 432x288 with 1 Axes>"
      ]
     },
     "metadata": {
      "needs_background": "light"
     },
     "output_type": "display_data"
    }
   ],
   "source": [
    "df['Grouping'].value_counts().plot(kind='barh') # Convert this to Tracks I'm Bored of Playing\n",
    "\n",
    "# Creating a dictionary for colors to make more intuitive visualizations (example: coffee is brown, water is blue, etc.)\n",
    "color_discrete_map= {'Pink': 'pink',\n",
    "                     'Aqua': 'aqua',\n",
    "                     'Yellow': 'yellow',\n",
    "                     'Green': 'green',\n",
    "                     'orange': 'orange',\n",
    "                     'Water':'blue'}             "
   ]
  },
  {
   "cell_type": "markdown",
   "metadata": {},
   "source": [
    "### 2. Kind\n",
    "Kind identifies the file type. While the majority of my tracks are lossless, I should convert the M4A + ALAC + Unknown Format tracks to a different format so they are more likely to play on all the different types of equipment I utilize."
   ]
  },
  {
   "cell_type": "code",
   "execution_count": 176,
   "metadata": {},
   "outputs": [
    {
     "data": {
      "text/plain": [
       "<AxesSubplot:>"
      ]
     },
     "execution_count": 176,
     "metadata": {},
     "output_type": "execute_result"
    },
    {
     "data": {
      "image/png": "[encoded data removed]",
      "text/plain": [
       "<Figure size 432x288 with 1 Axes>"
      ]
     },
     "metadata": {
      "needs_background": "light"
     },
     "output_type": "display_data"
    }
   ],
   "source": [
    "df['Kind'].value_counts().plot(kind='barh')"
   ]
  },
  {
   "cell_type": "markdown",
   "metadata": {},
   "source": [
    "### 3. Tonality\n",
    "In Rekordbox, tonality is displayed as a series of number + letter combos in my library.\n",
    "\n",
    "![](2022-09-20-11-49-43.png)\n",
    "<br>Color-Key Code"
   ]
  },
  {
   "cell_type": "code",
   "execution_count": 177,
   "metadata": {},
   "outputs": [
    {
     "name": "stderr",
     "output_type": "stream",
     "text": [
      "c:\\Users\\nickb\\Anaconda3\\lib\\site-packages\\pandas\\core\\missing.py:56: FutureWarning: elementwise comparison failed; returning scalar instead, but in the future will perform elementwise comparison\n",
      "  mask |= arr == x\n"
     ]
    },
    {
     "data": {
      "image/png": "[encoded data removed]",
      "text/plain": [
       "<Figure size 1440x288 with 1 Axes>"
      ]
     },
     "metadata": {
      "needs_background": "light"
     },
     "output_type": "display_data"
    }
   ],
   "source": [
    "# converting dtypes using astype\n",
    "df['Tonality']= df['Tonality'].astype('string')\n",
    "\n",
    "# Converting Values from Number/Letter-Based to Music Scale Name\n",
    "df.replace({'Tonality':{'8A' : 'A Minor',\n",
    "                        '6A' : 'G Minor',\n",
    "                        '1A' : 'A-Flat Minor',\n",
    "                        '9A' : 'E Minor',\n",
    "                        '4A' : 'F Minor',\n",
    "                        '7A' : 'D Minor',\n",
    "                        '11A' : 'F-Sharp Minor',\n",
    "                        '3A' : 'B-Flat Minor',\n",
    "                        '5A' : 'C Minor',\n",
    "                        '2A' : 'E-Flat Minor',\n",
    "                        '12A' : 'D-Flat Minor',\n",
    "                        '10A' : 'B Minor',\n",
    "                        '4B' : 'A-Flat Major',\n",
    "                        '7B' : 'F Major',\n",
    "                        '11B' : 'A Major',\n",
    "                        '9B' : 'G Major',\n",
    "                        '8B' : 'C Major',\n",
    "                        '5B' : 'E-Flat Major',\n",
    "                        '12B' : 'E Major',\n",
    "                        '10B' : 'D Major',\n",
    "                        '6B' : 'B-Flat Major',\n",
    "                        '2B' : 'F-Sharp Major',\n",
    "                        '3B' : 'D-Flat Major',\n",
    "                        '1B' : 'B Major',}},\n",
    "                        inplace=True)\n",
    "                        \n",
    "# Creating New Column for Minor or Major Key\n",
    "df['Key_Group'] = df['Tonality'].str.split(' ').str[1]\n",
    "\n",
    "# Replacing A Major Values\n",
    "df['Tonality'].replace('Amaj', 'A Major', inplace=True)\n",
    "df['Tonality'].replace('A#maj', 'A Major', inplace=True)\n",
    "\n",
    "# Dropping values that contain the STRING value 'nan'\n",
    "df = df[df['Tonality'] != 'nan']\n",
    "\n",
    "\n",
    "# CREATING A PLOT\n",
    "plt.figure(figsize=(20,4))\n",
    "\n",
    "plt.xticks(\n",
    "    rotation=45, \n",
    "    horizontalalignment='right',\n",
    "    fontweight='light',\n",
    "    fontsize='x-large'  \n",
    "    )\n",
    "\n",
    "ax = sns.countplot(\n",
    "              x = 'Tonality',\n",
    "              data = df,\n",
    "              order = df['Tonality'].value_counts().index,\n",
    "              palette='muted',\n",
    "              hue='Key_Group'\n",
    "              )\n",
    "\n",
    "ax.set(xlabel='Key', ylabel='Number of Tracks')\n",
    "\n",
    "plt.show()"
   ]
  },
  {
   "cell_type": "markdown",
   "metadata": {},
   "source": [
    "### 4. Record Label\n",
    "After running 'df['Label'].notna().value_counts()', I saw that only 977 of my tracks have a label listed. I built the following bar chart utilizing just the tracks that had their record label listed."
   ]
  },
  {
   "cell_type": "code",
   "execution_count": 178,
   "metadata": {},
   "outputs": [
    {
     "data": {
      "image/png": "[encoded data removed]",
      "text/plain": [
       "<Figure size 1440x288 with 1 Axes>"
      ]
     },
     "metadata": {
      "needs_background": "light"
     },
     "output_type": "display_data"
    }
   ],
   "source": [
    "df['Label'] = df['Label'].astype('string')\n",
    "\n",
    "# CREATING A PLOT\n",
    "plt.figure(figsize=(20,4))\n",
    "\n",
    "plt.xticks(\n",
    "    rotation=45, \n",
    "    horizontalalignment='right',\n",
    "    fontweight='light',\n",
    "    fontsize='x-large'  \n",
    "    )\n",
    "\n",
    "#TO DO Make Color = Primary Genre\n",
    "ax = sns.countplot(\n",
    "              x = 'Label',\n",
    "              data = df,\n",
    "              order = pd.value_counts(df['Label']).iloc[:25].index,\n",
    "              palette='muted'\n",
    "              #hue='Key_Group'\n",
    "              )\n",
    "\n",
    "ax.set(xlabel='Record Label',\n",
    "ylabel='Number of Tracks',\n",
    "title='Most Popular Record Labels Based on Total Number of Tracks in Library')\n",
    "\n",
    "plt.show()\n",
    "\n",
    "# TO DO's...\n",
    "# Maybe later I can merge databases and get label tags from Discogs?"
   ]
  },
  {
   "cell_type": "markdown",
   "metadata": {},
   "source": [
    "### 5. Artist"
   ]
  },
  {
   "cell_type": "code",
   "execution_count": 179,
   "metadata": {},
   "outputs": [
    {
     "data": {
      "image/png": "[encoded data removed]",
      "text/plain": [
       "<Figure size 1440x288 with 1 Axes>"
      ]
     },
     "metadata": {
      "needs_background": "light"
     },
     "output_type": "display_data"
    }
   ],
   "source": [
    "# Most Popular Artists Based on Tracks in Library\n",
    "plt.figure(figsize=(20,4))\n",
    "\n",
    "plt.xticks(\n",
    "    rotation=45, \n",
    "    horizontalalignment='right',\n",
    "    fontweight='light',\n",
    "    fontsize='x-large'  \n",
    "    )\n",
    "\n",
    "ax = sns.countplot(\n",
    "              x = 'Artist',\n",
    "              data = df,\n",
    "              order= pd.value_counts(df['Artist']).iloc[:20].index,\n",
    "              palette='muted',\n",
    "              hue='Key_Group',\n",
    "              dodge=False # For Stacking\n",
    "              )\n",
    "\n",
    "ax.set(xlabel='Artist Name',\n",
    "       ylabel='# of Tracks in Library',\n",
    "       title='Most Popular Artists Based on Total Number of Tracks in Library')\n",
    "\n",
    "plt.show()"
   ]
  },
  {
   "cell_type": "markdown",
   "metadata": {},
   "source": [
    "### 6. Year\n",
    "This signifies the year a track was released. There are over 1.3k tracks that have the year classified as zero."
   ]
  },
  {
   "cell_type": "code",
   "execution_count": 180,
   "metadata": {},
   "outputs": [
    {
     "data": {
      "image/png": "[encoded data removed]",
      "text/plain": [
       "<Figure size 432x288 with 1 Axes>"
      ]
     },
     "metadata": {
      "needs_background": "light"
     },
     "output_type": "display_data"
    }
   ],
   "source": [
    "# Based on Average BPM, Genre, Length... calculate Year\n",
    "year_zero = df[df['Year'] < 1970]\n",
    "# year_zero.head()\n",
    "\n",
    "# Removing Tracks released before 1970, which is incorrect data based upon personal knowledge of library\n",
    "df = df[df['Year'] > 1970]\n",
    "\n",
    "# ... And After 2022, since it's currently that year so anything after this year is incorrect.\n",
    "df = df[df['Year'] <= 2022]\n",
    "\n",
    "# CREATING A DECADES COLUMN...\n",
    "# Creating the bins for each decade\n",
    "conditions = [\n",
    "    (df['Year'] < 1980),\n",
    "    (df['Year'] >= 1980) & (df['Year'] < 1990),\n",
    "    (df['Year'] >= 1990) & (df['Year'] < 2000),\n",
    "    (df['Year'] >= 2000) & (df['Year'] < 2010),\n",
    "    (df['Year'] >= 2010) & (df['Year'] < 2020),\n",
    "    (df['Year'] >= 2020)\n",
    "]\n",
    "\n",
    "# Creating the names for each decade\n",
    "values = ['1970\\'s','1980\\'s','1990\\'s','2000\\'s','2010\\'s','2020\\'s']\n",
    "\n",
    "df['Decade'] = np.select(conditions, values)\n",
    "\n",
    "ax = sns.countplot(\n",
    "              x = 'Decade',\n",
    "              data = df,\n",
    "              order= pd.value_counts(df['Decade']).iloc[:20].index,\n",
    "              palette='muted',\n",
    "              hue='Key_Group',\n",
    "              dodge=False # For Stacking\n",
    "              )\n",
    "\n",
    "ax.set(xlabel='Decade',\n",
    "# TO DO Change Minor/Major Colors & Edit Key Group Name\n",
    "ylabel='# of Tracks in Library',\n",
    "title=\"Total Number of Tracks Per Decade\")\n",
    "\n",
    "plt.show()"
   ]
  },
  {
   "cell_type": "markdown",
   "metadata": {},
   "source": [
    "<b>Year/Month Added</b><br>\n",
    "This is when I added the music to my library. It could be interesting to see if there are any seasonal trends or how my tastes have shifted over time. <br>\n",
    "\n",
    "<i>Identify Seasonality</i>"
   ]
  },
  {
   "cell_type": "code",
   "execution_count": 181,
   "metadata": {},
   "outputs": [
    {
     "data": {
      "image/png": "[encoded data removed]",
      "text/plain": [
       "<Figure size 1080x216 with 1 Axes>"
      ]
     },
     "metadata": {
      "needs_background": "light"
     },
     "output_type": "display_data"
    }
   ],
   "source": [
    "# Converting Dates and Adding Year + Month Added Columns (check seasonality)\n",
    "df['DateAdded'] = pd.to_datetime(df['DateAdded'])\n",
    "df['YearAdded'] = df['DateAdded'].dt.year\n",
    "df['MonthAdded'] = df['DateAdded'].dt.month\n",
    "df['month_year_added'] = pd.to_datetime(df['DateAdded']).dt.to_period('M')\n",
    "\n",
    "# TO DO's...\n",
    "# LABEL AXES, TITLE, ABBREVIATED MONTH NAME (?), \n",
    "# df['MonthAdded'].value_counts().plot(kind='barh')\n",
    "\n",
    "df_noPink = df[df['Grouping'] != 'Pink']\n",
    "\n",
    "# TO DO: COLOR NAMES ARE INACCURATE SO NOT DISPLAYING FOR NOW\n",
    "# plt.figure(figsize=(15, 3))\n",
    "# ax = sns.countplot(\n",
    "#               x = 'Genre_Main',\n",
    "#               data = df_noPink,\n",
    "#             #   palette='muted',\n",
    "#               hue='Grouping',\n",
    "#               # dodge=False # For Stacking\n",
    "#               )\n",
    "\n",
    "# ax.set(xlabel='Genre', ylabel='# of Tracks in Library')\n",
    "# plt.show()\n",
    "\n",
    "# Bar Chart Based on Year Added\n",
    "plt.figure(figsize=(15, 3))\n",
    "ax = sns.countplot(\n",
    "              x = 'YearAdded',\n",
    "              data = df,\n",
    "              palette='muted',\n",
    "              hue='Key_Group',\n",
    "              # dodge=False # For Stacking\n",
    "              )\n",
    "\n",
    "ax.set(xlabel='Year Added',\n",
    "       ylabel='# of Tracks in Library',\n",
    "       title='Music Downloads Over Time')\n",
    "plt.show()\n",
    "\n",
    "# TO DO: have this be a lineplot that's month + genre based in plotly"
   ]
  },
  {
   "cell_type": "code",
   "execution_count": 182,
   "metadata": {},
   "outputs": [
    {
     "data": {
      "image/png": "[encoded data removed]",
      "text/plain": [
       "<Figure size 1080x216 with 1 Axes>"
      ]
     },
     "metadata": {
      "needs_background": "light"
     },
     "output_type": "display_data"
    }
   ],
   "source": [
    "# Creating a List of Top 20 Tracks\n",
    "Top20Tracks = df.nlargest(n=20, columns=['PlayCount'])\n",
    "Top20Tracks['ArtistAndTrack'] = Top20Tracks['Artist'] + \" - \" + Top20Tracks['Name']\n",
    "Top20Tracks['ArtistAndTrack']\n",
    "\n",
    "# Plotting Top 20 Tracks\n",
    "plt.figure(figsize=(15, 3))\n",
    "plt.bar(Top20Tracks['ArtistAndTrack'],Top20Tracks[\"PlayCount\"], color='#7eb54e')\n",
    "plt.xticks(rotation=270)\n",
    "plt.ylabel(\"Play Count\")\n",
    "plt.ylim([15, 40])\n",
    "plt.show()"
   ]
  },
  {
   "cell_type": "code",
   "execution_count": 183,
   "metadata": {},
   "outputs": [
    {
     "data": {
      "text/plain": [
       "YearAdded  MonthAdded\n",
       "2014       10             5\n",
       "2015       1             68\n",
       "           3             29\n",
       "           4             46\n",
       "           5             84\n",
       "                         ..\n",
       "2022       3              4\n",
       "           4              5\n",
       "           5              2\n",
       "           6             27\n",
       "           7             24\n",
       "Name: PlayCount, Length: 86, dtype: int64"
      ]
     },
     "execution_count": 183,
     "metadata": {},
     "output_type": "execute_result"
    }
   ],
   "source": [
    "DateAddedGroupBy = df.groupby(['DateAdded']).count()\n",
    "YearMonthGroup = df.groupby(['YearAdded', 'MonthAdded'])\n",
    "YearMonthGroup['PlayCount'].sum()"
   ]
  },
  {
   "cell_type": "code",
   "execution_count": 184,
   "metadata": {},
   "outputs": [
    {
     "data": {
      "text/plain": [
       "<AxesSubplot:>"
      ]
     },
     "execution_count": 184,
     "metadata": {},
     "output_type": "execute_result"
    },
    {
     "data": {
      "image/png": "[encoded data removed]",
      "text/plain": [
       "<Figure size 432x288 with 1 Axes>"
      ]
     },
     "metadata": {
      "needs_background": "light"
     },
     "output_type": "display_data"
    }
   ],
   "source": [
    "df['Genre_Main'].value_counts().head(20).plot(kind='barh')"
   ]
  },
  {
   "cell_type": "code",
   "execution_count": 207,
   "metadata": {},
   "outputs": [
    {
     "data": {
      "application/vnd.plotly.v1+json": {
       "config": {
        "plotlyServerURL": "https://plot.ly"
       },
       "data": [
        {
         "alignmentgroup": "True",
         "hovertemplate": "Year Track Released=%{x}<br>Total Number of Tracks=%{y}<extra></extra>",
         "legendgroup": "",
         "marker": {
          "color": "#636efa",
          "pattern": {
           "shape": ""
          }
         },
         "name": "",
         "offsetgroup": "",
         "orientation": "v",
         "showlegend": false,
         "textposition": "auto",
         "type": "bar",
         "x": [
          2020,
          2019,
          2017,
          2015,
          2018,
          2016,
          2014,
          2021,
          2013,
          2011,
          2012,
          2010,
          2009,
          1999,
          1996,
          2000,
          1997,
          1998,
          2007,
          2001,
          2008,
          1995,
          2006,
          1994,
          2004,
          2003,
          2002,
          1993,
          2005,
          1992,
          1991,
          1990,
          1982,
          1984,
          2022,
          1985,
          1983,
          1981,
          1977,
          1989,
          1988,
          1986,
          1987,
          1979,
          1976,
          1980,
          1978,
          1972
         ],
         "xaxis": "x",
         "y": [
          407,
          225,
          224,
          223,
          217,
          206,
          175,
          122,
          102,
          101,
          94,
          91,
          75,
          74,
          70,
          63,
          58,
          53,
          51,
          45,
          45,
          41,
          41,
          40,
          37,
          37,
          34,
          32,
          18,
          14,
          12,
          10,
          9,
          8,
          5,
          5,
          5,
          5,
          4,
          3,
          3,
          3,
          2,
          2,
          2,
          2,
          1,
          1
         ],
         "yaxis": "y"
        }
       ],
       "layout": {
        "barmode": "relative",
        "legend": {
         "tracegroupgap": 0
        },
        "template": {
         "data": {
          "bar": [
           {
            "error_x": {
             "color": "#2a3f5f"
            },
            "error_y": {
             "color": "#2a3f5f"
            },
            "marker": {
             "line": {
              "color": "#E5ECF6",
              "width": 0.5
             },
             "pattern": {
              "fillmode": "overlay",
              "size": 10,
              "solidity": 0.2
             }
            },
            "type": "bar"
           }
          ],
          "barpolar": [
           {
            "marker": {
             "line": {
              "color": "#E5ECF6",
              "width": 0.5
             },
             "pattern": {
              "fillmode": "overlay",
              "size": 10,
              "solidity": 0.2
             }
            },
            "type": "barpolar"
           }
          ],
          "carpet": [
           {
            "aaxis": {
             "endlinecolor": "#2a3f5f",
             "gridcolor": "white",
             "linecolor": "white",
             "minorgridcolor": "white",
             "startlinecolor": "#2a3f5f"
            },
            "baxis": {
             "endlinecolor": "#2a3f5f",
             "gridcolor": "white",
             "linecolor": "white",
             "minorgridcolor": "white",
             "startlinecolor": "#2a3f5f"
            },
            "type": "carpet"
           }
          ],
          "choropleth": [
           {
            "colorbar": {
             "outlinewidth": 0,
             "ticks": ""
            },
            "type": "choropleth"
           }
          ],
          "contour": [
           {
            "colorbar": {
             "outlinewidth": 0,
             "ticks": ""
            },
            "colorscale": [
             [
              0,
              "#0d0887"
             ],
             [
              0.1111111111111111,
              "#46039f"
             ],
             [
              0.2222222222222222,
              "#7201a8"
             ],
             [
              0.3333333333333333,
              "#9c179e"
             ],
             [
              0.4444444444444444,
              "#bd3786"
             ],
             [
              0.5555555555555556,
              "#d8576b"
             ],
             [
              0.6666666666666666,
              "#ed7953"
             ],
             [
              0.7777777777777778,
              "#fb9f3a"
             ],
             [
              0.8888888888888888,
              "#fdca26"
             ],
             [
              1,
              "#f0f921"
             ]
            ],
            "type": "contour"
           }
          ],
          "contourcarpet": [
           {
            "colorbar": {
             "outlinewidth": 0,
             "ticks": ""
            },
            "type": "contourcarpet"
           }
          ],
          "heatmap": [
           {
            "colorbar": {
             "outlinewidth": 0,
             "ticks": ""
            },
            "colorscale": [
             [
              0,
              "#0d0887"
             ],
             [
              0.1111111111111111,
              "#46039f"
             ],
             [
              0.2222222222222222,
              "#7201a8"
             ],
             [
              0.3333333333333333,
              "#9c179e"
             ],
             [
              0.4444444444444444,
              "#bd3786"
             ],
             [
              0.5555555555555556,
              "#d8576b"
             ],
             [
              0.6666666666666666,
              "#ed7953"
             ],
             [
              0.7777777777777778,
              "#fb9f3a"
             ],
             [
              0.8888888888888888,
              "#fdca26"
             ],
             [
              1,
              "#f0f921"
             ]
            ],
            "type": "heatmap"
           }
          ],
          "heatmapgl": [
           {
            "colorbar": {
             "outlinewidth": 0,
             "ticks": ""
            },
            "colorscale": [
             [
              0,
              "#0d0887"
             ],
             [
              0.1111111111111111,
              "#46039f"
             ],
             [
              0.2222222222222222,
              "#7201a8"
             ],
             [
              0.3333333333333333,
              "#9c179e"
             ],
             [
              0.4444444444444444,
              "#bd3786"
             ],
             [
              0.5555555555555556,
              "#d8576b"
             ],
             [
              0.6666666666666666,
              "#ed7953"
             ],
             [
              0.7777777777777778,
              "#fb9f3a"
             ],
             [
              0.8888888888888888,
              "#fdca26"
             ],
             [
              1,
              "#f0f921"
             ]
            ],
            "type": "heatmapgl"
           }
          ],
          "histogram": [
           {
            "marker": {
             "pattern": {
              "fillmode": "overlay",
              "size": 10,
              "solidity": 0.2
             }
            },
            "type": "histogram"
           }
          ],
          "histogram2d": [
           {
            "colorbar": {
             "outlinewidth": 0,
             "ticks": ""
            },
            "colorscale": [
             [
              0,
              "#0d0887"
             ],
             [
              0.1111111111111111,
              "#46039f"
             ],
             [
              0.2222222222222222,
              "#7201a8"
             ],
             [
              0.3333333333333333,
              "#9c179e"
             ],
             [
              0.4444444444444444,
              "#bd3786"
             ],
             [
              0.5555555555555556,
              "#d8576b"
             ],
             [
              0.6666666666666666,
              "#ed7953"
             ],
             [
              0.7777777777777778,
              "#fb9f3a"
             ],
             [
              0.8888888888888888,
              "#fdca26"
             ],
             [
              1,
              "#f0f921"
             ]
            ],
            "type": "histogram2d"
           }
          ],
          "histogram2dcontour": [
           {
            "colorbar": {
             "outlinewidth": 0,
             "ticks": ""
            },
            "colorscale": [
             [
              0,
              "#0d0887"
             ],
             [
              0.1111111111111111,
              "#46039f"
             ],
             [
              0.2222222222222222,
              "#7201a8"
             ],
             [
              0.3333333333333333,
              "#9c179e"
             ],
             [
              0.4444444444444444,
              "#bd3786"
             ],
             [
              0.5555555555555556,
              "#d8576b"
             ],
             [
              0.6666666666666666,
              "#ed7953"
             ],
             [
              0.7777777777777778,
              "#fb9f3a"
             ],
             [
              0.8888888888888888,
              "#fdca26"
             ],
             [
              1,
              "#f0f921"
             ]
            ],
            "type": "histogram2dcontour"
           }
          ],
          "mesh3d": [
           {
            "colorbar": {
             "outlinewidth": 0,
             "ticks": ""
            },
            "type": "mesh3d"
           }
          ],
          "parcoords": [
           {
            "line": {
             "colorbar": {
              "outlinewidth": 0,
              "ticks": ""
             }
            },
            "type": "parcoords"
           }
          ],
          "pie": [
           {
            "automargin": true,
            "type": "pie"
           }
          ],
          "scatter": [
           {
            "fillpattern": {
             "fillmode": "overlay",
             "size": 10,
             "solidity": 0.2
            },
            "type": "scatter"
           }
          ],
          "scatter3d": [
           {
            "line": {
             "colorbar": {
              "outlinewidth": 0,
              "ticks": ""
             }
            },
            "marker": {
             "colorbar": {
              "outlinewidth": 0,
              "ticks": ""
             }
            },
            "type": "scatter3d"
           }
          ],
          "scattercarpet": [
           {
            "marker": {
             "colorbar": {
              "outlinewidth": 0,
              "ticks": ""
             }
            },
            "type": "scattercarpet"
           }
          ],
          "scattergeo": [
           {
            "marker": {
             "colorbar": {
              "outlinewidth": 0,
              "ticks": ""
             }
            },
            "type": "scattergeo"
           }
          ],
          "scattergl": [
           {
            "marker": {
             "colorbar": {
              "outlinewidth": 0,
              "ticks": ""
             }
            },
            "type": "scattergl"
           }
          ],
          "scattermapbox": [
           {
            "marker": {
             "colorbar": {
              "outlinewidth": 0,
              "ticks": ""
             }
            },
            "type": "scattermapbox"
           }
          ],
          "scatterpolar": [
           {
            "marker": {
             "colorbar": {
              "outlinewidth": 0,
              "ticks": ""
             }
            },
            "type": "scatterpolar"
           }
          ],
          "scatterpolargl": [
           {
            "marker": {
             "colorbar": {
              "outlinewidth": 0,
              "ticks": ""
             }
            },
            "type": "scatterpolargl"
           }
          ],
          "scatterternary": [
           {
            "marker": {
             "colorbar": {
              "outlinewidth": 0,
              "ticks": ""
             }
            },
            "type": "scatterternary"
           }
          ],
          "surface": [
           {
            "colorbar": {
             "outlinewidth": 0,
             "ticks": ""
            },
            "colorscale": [
             [
              0,
              "#0d0887"
             ],
             [
              0.1111111111111111,
              "#46039f"
             ],
             [
              0.2222222222222222,
              "#7201a8"
             ],
             [
              0.3333333333333333,
              "#9c179e"
             ],
             [
              0.4444444444444444,
              "#bd3786"
             ],
             [
              0.5555555555555556,
              "#d8576b"
             ],
             [
              0.6666666666666666,
              "#ed7953"
             ],
             [
              0.7777777777777778,
              "#fb9f3a"
             ],
             [
              0.8888888888888888,
              "#fdca26"
             ],
             [
              1,
              "#f0f921"
             ]
            ],
            "type": "surface"
           }
          ],
          "table": [
           {
            "cells": {
             "fill": {
              "color": "#EBF0F8"
             },
             "line": {
              "color": "white"
             }
            },
            "header": {
             "fill": {
              "color": "#C8D4E3"
             },
             "line": {
              "color": "white"
             }
            },
            "type": "table"
           }
          ]
         },
         "layout": {
          "annotationdefaults": {
           "arrowcolor": "#2a3f5f",
           "arrowhead": 0,
           "arrowwidth": 1
          },
          "autotypenumbers": "strict",
          "coloraxis": {
           "colorbar": {
            "outlinewidth": 0,
            "ticks": ""
           }
          },
          "colorscale": {
           "diverging": [
            [
             0,
             "#8e0152"
            ],
            [
             0.1,
             "#c51b7d"
            ],
            [
             0.2,
             "#de77ae"
            ],
            [
             0.3,
             "#f1b6da"
            ],
            [
             0.4,
             "#fde0ef"
            ],
            [
             0.5,
             "#f7f7f7"
            ],
            [
             0.6,
             "#e6f5d0"
            ],
            [
             0.7,
             "#b8e186"
            ],
            [
             0.8,
             "#7fbc41"
            ],
            [
             0.9,
             "#4d9221"
            ],
            [
             1,
             "#276419"
            ]
           ],
           "sequential": [
            [
             0,
             "#0d0887"
            ],
            [
             0.1111111111111111,
             "#46039f"
            ],
            [
             0.2222222222222222,
             "#7201a8"
            ],
            [
             0.3333333333333333,
             "#9c179e"
            ],
            [
             0.4444444444444444,
             "#bd3786"
            ],
            [
             0.5555555555555556,
             "#d8576b"
            ],
            [
             0.6666666666666666,
             "#ed7953"
            ],
            [
             0.7777777777777778,
             "#fb9f3a"
            ],
            [
             0.8888888888888888,
             "#fdca26"
            ],
            [
             1,
             "#f0f921"
            ]
           ],
           "sequentialminus": [
            [
             0,
             "#0d0887"
            ],
            [
             0.1111111111111111,
             "#46039f"
            ],
            [
             0.2222222222222222,
             "#7201a8"
            ],
            [
             0.3333333333333333,
             "#9c179e"
            ],
            [
             0.4444444444444444,
             "#bd3786"
            ],
            [
             0.5555555555555556,
             "#d8576b"
            ],
            [
             0.6666666666666666,
             "#ed7953"
            ],
            [
             0.7777777777777778,
             "#fb9f3a"
            ],
            [
             0.8888888888888888,
             "#fdca26"
            ],
            [
             1,
             "#f0f921"
            ]
           ]
          },
          "colorway": [
           "#636efa",
           "#EF553B",
           "#00cc96",
           "#ab63fa",
           "#FFA15A",
           "#19d3f3",
           "#FF6692",
           "#B6E880",
           "#FF97FF",
           "#FECB52"
          ],
          "font": {
           "color": "#2a3f5f"
          },
          "geo": {
           "bgcolor": "white",
           "lakecolor": "white",
           "landcolor": "#E5ECF6",
           "showlakes": true,
           "showland": true,
           "subunitcolor": "white"
          },
          "hoverlabel": {
           "align": "left"
          },
          "hovermode": "closest",
          "mapbox": {
           "style": "light"
          },
          "paper_bgcolor": "white",
          "plot_bgcolor": "#E5ECF6",
          "polar": {
           "angularaxis": {
            "gridcolor": "white",
            "linecolor": "white",
            "ticks": ""
           },
           "bgcolor": "#E5ECF6",
           "radialaxis": {
            "gridcolor": "white",
            "linecolor": "white",
            "ticks": ""
           }
          },
          "scene": {
           "xaxis": {
            "backgroundcolor": "#E5ECF6",
            "gridcolor": "white",
            "gridwidth": 2,
            "linecolor": "white",
            "showbackground": true,
            "ticks": "",
            "zerolinecolor": "white"
           },
           "yaxis": {
            "backgroundcolor": "#E5ECF6",
            "gridcolor": "white",
            "gridwidth": 2,
            "linecolor": "white",
            "showbackground": true,
            "ticks": "",
            "zerolinecolor": "white"
           },
           "zaxis": {
            "backgroundcolor": "#E5ECF6",
            "gridcolor": "white",
            "gridwidth": 2,
            "linecolor": "white",
            "showbackground": true,
            "ticks": "",
            "zerolinecolor": "white"
           }
          },
          "shapedefaults": {
           "line": {
            "color": "#2a3f5f"
           }
          },
          "ternary": {
           "aaxis": {
            "gridcolor": "white",
            "linecolor": "white",
            "ticks": ""
           },
           "baxis": {
            "gridcolor": "white",
            "linecolor": "white",
            "ticks": ""
           },
           "bgcolor": "#E5ECF6",
           "caxis": {
            "gridcolor": "white",
            "linecolor": "white",
            "ticks": ""
           }
          },
          "title": {
           "x": 0.05
          },
          "xaxis": {
           "automargin": true,
           "gridcolor": "white",
           "linecolor": "white",
           "ticks": "",
           "title": {
            "standoff": 15
           },
           "zerolinecolor": "white",
           "zerolinewidth": 2
          },
          "yaxis": {
           "automargin": true,
           "gridcolor": "white",
           "linecolor": "white",
           "ticks": "",
           "title": {
            "standoff": 15
           },
           "zerolinecolor": "white",
           "zerolinewidth": 2
          }
         }
        },
        "title": {
         "text": "Rekordbox Library Based on a Track's Release Year"
        },
        "xaxis": {
         "anchor": "y",
         "domain": [
          0,
          1
         ],
         "title": {
          "text": "Year Track Released"
         }
        },
        "yaxis": {
         "anchor": "x",
         "domain": [
          0,
          1
         ],
         "title": {
          "text": "Total Number of Tracks"
         }
        }
       }
      }
     },
     "metadata": {},
     "output_type": "display_data"
    }
   ],
   "source": [
    "# Creating a Count Bar Chart in Plotly\n",
    "# https://stackoverflow.com/questions/66652742/plot-the-count-of-a-pandas-df-column-using-plotly\n",
    "new_df = df['Year'].value_counts().rename_axis('Year').reset_index(name='counts')\n",
    "\n",
    "fig = px.bar(new_df,\n",
    "             x=\"Year\",\n",
    "             y=\"counts\",\n",
    "             #color=\"counts\", # Scrapping From This One But Use in Future\n",
    "             title=\"Rekordbox Library Based on a Track's Release Year\",\n",
    "labels={\n",
    "                     \"Year\": \"Year Track Released\",\n",
    "                     \"counts\": \"Total Number of Tracks\"\n",
    "                 })\n",
    "fig.show()"
   ]
  },
  {
   "cell_type": "code",
   "execution_count": 186,
   "metadata": {},
   "outputs": [],
   "source": [
    "# # create a dictionary | key = old name | value = new name\n",
    "dict = {'AverageBpm': 'BPM',\n",
    "        'Album': 'Release Name',\n",
    "        'Name': 'Track Title'}\n",
    " \n",
    "# # call rename () method\n",
    "df.rename(columns=dict,\n",
    "          inplace=True)\n",
    "\n",
    "# Columns to Drop\n",
    "df.drop(['Size','BitRate','Composer', 'DiscNumber','SampleRate','Comments','Rating','Location','Remixer','Mix','Colour'], axis=1, inplace=True)"
   ]
  },
  {
   "cell_type": "markdown",
   "metadata": {},
   "source": [
    "# Future Ideas for this Project\n",
    "-  Set up visualizations + statistics automatically based on user submitted Rekordbox data.\n",
    "- Setup Data Dictionary File"
   ]
  },
  {
   "cell_type": "code",
   "execution_count": 187,
   "metadata": {},
   "outputs": [],
   "source": [
    "# Get Discogs API Connected\n",
    "\n",
    "# pd.df.merge(data_styles, how='inner', on=None, left_on=['A_c1','c2'], right_on=['A_c1','c2'], left_index=False, right_index=False, sort=False, suffixes=('_x', '_y'), copy=True, indicator=False, validate=None)[source]\n",
    "# df.to_excel(\"Rekordbox - Excel.xlsx\")"
   ]
  },
  {
   "cell_type": "markdown",
   "metadata": {},
   "source": [
    "\n",
    "| Field  | Definition | Usage Comments | Prior Field Name |\n",
    "| ------------- | ------------- | ------------- |------------- |\n",
    "| Track Title  | Title of the Track  |  | Name |\n",
    "| Artist  | Artist of the Track  |    |  |\n",
    "| Release Name  | Name of the Release the Track From  |    | Album |\n",
    "| PlayCount  | How Many Times I've Played a Track  |    | |\n",
    "| AverageBpm  | Beats Per Minute  |    | |\n",
    "| Year  | The Year a Track was Released  |    | |"
   ]
  }
 ],
 "metadata": {
  "kernelspec": {
   "display_name": "Python 3.8.8 ('base')",
   "language": "python",
   "name": "python3"
  },
  "language_info": {
   "codemirror_mode": {
    "name": "ipython",
    "version": 3
   },
   "file_extension": ".py",
   "mimetype": "text/x-python",
   "name": "python",
   "nbconvert_exporter": "python",
   "pygments_lexer": "ipython3",
   "version": "3.8.8"
  },
  "orig_nbformat": 4,
  "vscode": {
   "interpreter": {
    "hash": "f54dced06304130cb951df2aee7df93dacfbf7e633c0fd529e7a54b52d93e61f"
   }
  }
 },
 "nbformat": 4,
 "nbformat_minor": 2
}
