{
 "cells": [
  {
   "cell_type": "markdown",
   "metadata": {},
   "source": [
    "I've been an active user of Soundcloud for years and in the past two years they've enacted many changes to the app. I'm curious as to how these changes have been received."
   ]
  },
  {
   "cell_type": "code",
   "execution_count": 3,
   "metadata": {},
   "outputs": [],
   "source": [
    "### Installing Necessary Packages into Virtual Environment\n",
    "\n",
    "# pip install -U nltk\n",
    "# pip install -U spacy\n",
    "# pip install matplotlib\n",
    "# pip install app-store-scraper # SOURCE: https://pypi.org/project/app-store-scraper/\n",
    "# pip install requests authlib\n",
    "# pip install -U pandas\n",
    "# pip install nlp\n",
    "# pip install -U pip setuptools wheel\n",
    "# # pip install https://github.com/explosion/spacy-models/releases/download/en_core_web_sm-2.3.1/en_core_web_sm-2.3.1.tar.gz\n",
    "# pip install -U textblob\n",
    "# pip spacy download en_core_web_sm\n",
    "# pip install -U scikit-learn\n",
    "# pip install wordcloud\n",
    "# pip install seaborn"
   ]
  },
  {
   "cell_type": "code",
   "execution_count": 34,
   "metadata": {},
   "outputs": [
    {
     "name": "stdout",
     "output_type": "stream",
     "text": [
      "Collecting dexplot\n",
      "  Downloading dexplot-0.1.4-py3-none-any.whl (173 kB)\n",
      "     ------------------------------------- 173.4/173.4 kB 10.2 MB/s eta 0:00:00\n",
      "Requirement already satisfied: numpy>=1.15 in c:\\users\\nickb\\anaconda3\\lib\\site-packages (from dexplot) (1.19.5)\n",
      "Requirement already satisfied: scipy>=1.0matplotlib>=3.1 in c:\\users\\nickb\\anaconda3\\lib\\site-packages (from dexplot) (1.5.4)\n",
      "Requirement already satisfied: pandas>=0.24 in c:\\users\\nickb\\anaconda3\\lib\\site-packages (from dexplot) (1.2.4)\n",
      "Requirement already satisfied: python-dateutil>=2.7.3 in c:\\users\\nickb\\anaconda3\\lib\\site-packages (from pandas>=0.24->dexplot) (2.8.1)\n",
      "Requirement already satisfied: pytz>=2017.3 in c:\\users\\nickb\\anaconda3\\lib\\site-packages (from pandas>=0.24->dexplot) (2021.1)\n",
      "Requirement already satisfied: six>=1.5 in c:\\users\\nickb\\anaconda3\\lib\\site-packages (from python-dateutil>=2.7.3->pandas>=0.24->dexplot) (1.15.0)\n",
      "Installing collected packages: dexplot\n",
      "Successfully installed dexplot-0.1.4\n",
      "\n",
      "[notice] A new release of pip available: 22.1.2 -> 22.2.2\n",
      "[notice] To update, run: python.exe -m pip install --upgrade pip\n",
      "Note: you may need to restart the kernel to use updated packages.\n"
     ]
    }
   ],
   "source": [
    "# pip install dexplot"
   ]
  },
  {
   "cell_type": "markdown",
   "metadata": {},
   "source": [
    "# 1. Scraping Process"
   ]
  },
  {
   "cell_type": "markdown",
   "metadata": {},
   "source": [
    "Using the App Store Scraper Package, reviews since 20200 were taken from Apple's App Store."
   ]
  },
  {
   "cell_type": "code",
   "execution_count": null,
   "metadata": {},
   "outputs": [],
   "source": [
    "# import numpy as np\n",
    "# import pandas as pd\n",
    "# from app_store_scraper import AppStore\n",
    "# from pprint import pprint\n",
    "# from datetime import datetime\n",
    "\n",
    "# # for building in wait times\n",
    "# import random\n",
    "# import time\n",
    "\n",
    "# # https://python.plainenglish.io/scraping-app-store-reviews-with-python-90e4117ccdfb\n",
    "# soundcloud = AppStore(country=\"us\", app_name=\"soundcloud-discover-new-music\")\n",
    "\n",
    "# # Grabbing Soundcloud Reviews from Apple's App Store\n",
    "# soundcloud.review(\n",
    "#     after=datetime(2020, 1, 1),\n",
    "#     sleep=random.randint(20,25)\n",
    "#     )"
   ]
  },
  {
   "cell_type": "markdown",
   "metadata": {},
   "source": [
    "Now we have the ability to access all of our reviews, which are stored as a\n",
    "semi-structured JSON data. You can think of it as similar to a list of dictionaries."
   ]
  },
  {
   "cell_type": "code",
   "execution_count": null,
   "metadata": {},
   "outputs": [],
   "source": [
    "# pprint(soundcloud.review)\n",
    "# type(soundcloud.reviews)"
   ]
  },
  {
   "cell_type": "markdown",
   "metadata": {},
   "source": [
    "Review count shows us how many reviews we have. We have access to 241 reviews."
   ]
  },
  {
   "cell_type": "code",
   "execution_count": null,
   "metadata": {},
   "outputs": [],
   "source": [
    "# pprint(soundcloud.reviews_count)"
   ]
  },
  {
   "cell_type": "markdown",
   "metadata": {},
   "source": [
    "From here we turn the JSON data into a flat Pandas Dataframe, then exported it to a CSV so we don't have to do the scraping process again."
   ]
  },
  {
   "cell_type": "code",
   "execution_count": null,
   "metadata": {},
   "outputs": [],
   "source": [
    "# Data = pd.json_normalize(soundcloud.reviews)\n",
    "# Data.to_csv(\"SoudcloudReviews2020UntilSep2022.csv\", header=False)"
   ]
  },
  {
   "cell_type": "markdown",
   "metadata": {},
   "source": [
    "# 2. Exporatory Data Analysis (EDA)"
   ]
  },
  {
   "cell_type": "code",
   "execution_count": 15,
   "metadata": {},
   "outputs": [],
   "source": [
    "import matplotlib.pyplot as plt\n",
    "import seaborn as sns\n",
    "import numpy as np\n",
    "import pandas as pd\n",
    "import dexplot as dxp\n",
    "\n",
    "Data = pd.read_csv('SoudcloudReviews2020UntilSep2022.csv')\n",
    "\n",
    "# Deleting First Column\n",
    "Data = Data.iloc[: , 1:]\n",
    "\n",
    "Data.head()"
   ]
  },
  {
   "cell_type": "code",
   "execution_count": 8,
   "metadata": {},
   "outputs": [
    {
     "name": "stdout",
     "output_type": "stream",
     "text": [
      "<class 'pandas.core.frame.DataFrame'>\n",
      "RangeIndex: 8023 entries, 0 to 8022\n",
      "Data columns (total 4 columns):\n",
      " #   Column       Non-Null Count  Dtype         \n",
      "---  ------       --------------  -----         \n",
      " 0   Title        8023 non-null   object        \n",
      " 1   Rating       8023 non-null   int64         \n",
      " 2   Review Date  8023 non-null   datetime64[ns]\n",
      " 3   Review       8023 non-null   object        \n",
      "dtypes: datetime64[ns](1), int64(1), object(2)\n",
      "memory usage: 250.8+ KB\n"
     ]
    }
   ],
   "source": [
    "Data.info()"
   ]
  },
  {
   "cell_type": "code",
   "execution_count": 13,
   "metadata": {},
   "outputs": [],
   "source": [
    "Data['Review Date'] = pd.to_datetime(Data['Review Date'])\n",
    "Data['Year of Review'] = pd.DatetimeIndex(Data['Review Date']).year\n",
    "Data['Month of Review'] = pd.DatetimeIndex(Data['Review Date']).month"
   ]
  },
  {
   "cell_type": "code",
   "execution_count": 14,
   "metadata": {},
   "outputs": [
    {
     "data": {
      "text/html": [
       "<div>\n",
       "<style scoped>\n",
       "    .dataframe tbody tr th:only-of-type {\n",
       "        vertical-align: middle;\n",
       "    }\n",
       "\n",
       "    .dataframe tbody tr th {\n",
       "        vertical-align: top;\n",
       "    }\n",
       "\n",
       "    .dataframe thead th {\n",
       "        text-align: right;\n",
       "    }\n",
       "</style>\n",
       "<table border=\"1\" class=\"dataframe\">\n",
       "  <thead>\n",
       "    <tr style=\"text-align: right;\">\n",
       "      <th></th>\n",
       "      <th>Title</th>\n",
       "      <th>Rating</th>\n",
       "      <th>Review Date</th>\n",
       "      <th>Review</th>\n",
       "      <th>Month of Review</th>\n",
       "      <th>Year of Review</th>\n",
       "    </tr>\n",
       "  </thead>\n",
       "  <tbody>\n",
       "    <tr>\n",
       "      <th>0</th>\n",
       "      <td>You need SoundCloud</td>\n",
       "      <td>5</td>\n",
       "      <td>2020-06-26 06:36:00</td>\n",
       "      <td>It’s by far the best music and created platfor...</td>\n",
       "      <td>6</td>\n",
       "      <td>2020</td>\n",
       "    </tr>\n",
       "    <tr>\n",
       "      <th>1</th>\n",
       "      <td>SoundCloud Says Something’s Wrong with my Email</td>\n",
       "      <td>4</td>\n",
       "      <td>2021-06-03 20:06:00</td>\n",
       "      <td>Hello, if you are reading this, please do. I w...</td>\n",
       "      <td>6</td>\n",
       "      <td>2021</td>\n",
       "    </tr>\n",
       "    <tr>\n",
       "      <th>2</th>\n",
       "      <td>I did not give permission to renew this APP</td>\n",
       "      <td>1</td>\n",
       "      <td>2021-09-22 12:21:00</td>\n",
       "      <td>I got a free trial. When that free trial was u...</td>\n",
       "      <td>9</td>\n",
       "      <td>2021</td>\n",
       "    </tr>\n",
       "    <tr>\n",
       "      <th>3</th>\n",
       "      <td>Great</td>\n",
       "      <td>4</td>\n",
       "      <td>2021-01-30 05:17:00</td>\n",
       "      <td>I been on SoundCloud for at least 5 and a half...</td>\n",
       "      <td>1</td>\n",
       "      <td>2021</td>\n",
       "    </tr>\n",
       "    <tr>\n",
       "      <th>4</th>\n",
       "      <td>Unfortunately, just not worth it anymore.</td>\n",
       "      <td>1</td>\n",
       "      <td>2021-09-21 14:45:00</td>\n",
       "      <td>A couple years ago I would’ve given 10/5 stars...</td>\n",
       "      <td>9</td>\n",
       "      <td>2021</td>\n",
       "    </tr>\n",
       "  </tbody>\n",
       "</table>\n",
       "</div>"
      ],
      "text/plain": [
       "                                             Title  Rating  \\\n",
       "0                              You need SoundCloud       5   \n",
       "1  SoundCloud Says Something’s Wrong with my Email       4   \n",
       "2      I did not give permission to renew this APP       1   \n",
       "3                                            Great       4   \n",
       "4        Unfortunately, just not worth it anymore.       1   \n",
       "\n",
       "          Review Date                                             Review  \\\n",
       "0 2020-06-26 06:36:00  It’s by far the best music and created platfor...   \n",
       "1 2021-06-03 20:06:00  Hello, if you are reading this, please do. I w...   \n",
       "2 2021-09-22 12:21:00  I got a free trial. When that free trial was u...   \n",
       "3 2021-01-30 05:17:00  I been on SoundCloud for at least 5 and a half...   \n",
       "4 2021-09-21 14:45:00  A couple years ago I would’ve given 10/5 stars...   \n",
       "\n",
       "   Month of Review  Year of Review  \n",
       "0                6            2020  \n",
       "1                6            2021  \n",
       "2                9            2021  \n",
       "3                1            2021  \n",
       "4                9            2021  "
      ]
     },
     "execution_count": 14,
     "metadata": {},
     "output_type": "execute_result"
    }
   ],
   "source": [
    "Data.head()"
   ]
  },
  {
   "cell_type": "markdown",
   "metadata": {},
   "source": [
    "While initially I utilized Seaborn to explore how ratings changed over time, the number of reviews was different for each year and it was September of 2022 when this analysis was done. A better library for quickly looking at percentage counts of groupings of data is dexplot."
   ]
  },
  {
   "cell_type": "markdown",
   "metadata": {},
   "source": [
    "As can be seen from this visualization, the number of 5-star reviews appears to be slightly decreasing, while the number of 1-star reviews appears to be very slightly increasing."
   ]
  },
  {
   "cell_type": "code",
   "execution_count": 36,
   "metadata": {},
   "outputs": [
    {
     "name": "stderr",
     "output_type": "stream",
     "text": [
      "c:\\Users\\nickb\\Anaconda3\\lib\\site-packages\\pandas\\core\\arrays\\categorical.py:2487: FutureWarning: The `inplace` parameter in pandas.Categorical.remove_unused_categories is deprecated and will be removed in a future version.\n",
      "  res = method(*args, **kwargs)\n",
      "findfont: Font family ['Helvetica'] not found. Falling back to DejaVu Sans.\n",
      "findfont: Font family ['Helvetica'] not found. Falling back to DejaVu Sans.\n"
     ]
    },
    {
     "data": {
      "image/png": "[encoded data removed]",
      "text/plain": [
       "<Figure size 483.84x316.8 with 1 Axes>"
      ]
     },
     "execution_count": 36,
     "metadata": {},
     "output_type": "execute_result"
    }
   ],
   "source": [
    "dxp.count('Rating', data=Data, split='Year of Review', normalize='Year of Review')"
   ]
  },
  {
   "cell_type": "markdown",
   "metadata": {},
   "source": [
    "# Sentiment Analysis\n",
    "\n",
    "To get a better understanding of what type of complaints 1-star reviewers are having, this data was further analyzed using different language processing techniques."
   ]
  },
  {
   "cell_type": "code",
   "execution_count": 45,
   "metadata": {},
   "outputs": [],
   "source": [
    "OneStar = Data[Data['Rating'] == 1]"
   ]
  },
  {
   "cell_type": "markdown",
   "metadata": {},
   "source": [
    "### Polarity and Subjectivity using TextBlob\n",
    "\n",
    "The first used was TextBlob. Each Review was a given a score for polarity and subjectivity.\n",
    "\n",
    "\"We then can calculate the sentiment through the...\n",
    "- polarity function. polarity ranges from -1 to 1, with -1 being negative and 1 being positive.\n",
    "- subjectivity function to calculate subjectivity, which ranges from 0 to 1, with 0 being objective and 1 being subjective.\"\n",
    "-- https://towardsdatascience.com/text-analysis-basics-in-python-443282942ec5\n"
   ]
  },
  {
   "cell_type": "code",
   "execution_count": 46,
   "metadata": {},
   "outputs": [],
   "source": [
    "#Extract only survey OneStarComments\n",
    "OneStarComments = OneStar['Review']\n",
    "OneStarComments = OneStarComments.astype('str')\n",
    "\n",
    "#Defining function to remove non-ascii characters\n",
    "def _removeNonAscii(s): return \"\".join(i for i in s if ord(i)<128)\n",
    "\n",
    "#Removing the non-ascii characters\n",
    "OneStarComments = OneStarComments.map(lambda x: _removeNonAscii(x))\n",
    "OneStarComments = pd.DataFrame(OneStarComments)\n",
    "\n",
    "# Creating Polarity & Subjective Columns\n",
    "from textblob import TextBlob\n",
    "\n",
    "OneStarComments['polarity'] = OneStarComments['Review'].apply(lambda x: TextBlob(x).polarity)\n",
    "OneStarComments['subjective'] = OneStarComments['Review'].apply(lambda x: TextBlob(x).subjectivity)"
   ]
  },
  {
   "cell_type": "code",
   "execution_count": 66,
   "metadata": {},
   "outputs": [
    {
     "data": {
      "text/html": [
       "<div>\n",
       "<style scoped>\n",
       "    .dataframe tbody tr th:only-of-type {\n",
       "        vertical-align: middle;\n",
       "    }\n",
       "\n",
       "    .dataframe tbody tr th {\n",
       "        vertical-align: top;\n",
       "    }\n",
       "\n",
       "    .dataframe thead th {\n",
       "        text-align: right;\n",
       "    }\n",
       "</style>\n",
       "<table border=\"1\" class=\"dataframe\">\n",
       "  <thead>\n",
       "    <tr style=\"text-align: right;\">\n",
       "      <th></th>\n",
       "      <th>Review</th>\n",
       "      <th>polarity</th>\n",
       "      <th>subjective</th>\n",
       "    </tr>\n",
       "  </thead>\n",
       "  <tbody>\n",
       "    <tr>\n",
       "      <th>2</th>\n",
       "      <td>I got a free trial. When that free trial was u...</td>\n",
       "      <td>0.335369</td>\n",
       "      <td>0.459091</td>\n",
       "    </tr>\n",
       "    <tr>\n",
       "      <th>4</th>\n",
       "      <td>A couple years ago I wouldve given 10/5 stars ...</td>\n",
       "      <td>-0.037500</td>\n",
       "      <td>0.462434</td>\n",
       "    </tr>\n",
       "    <tr>\n",
       "      <th>27</th>\n",
       "      <td>The app has always been painfully slow, but it...</td>\n",
       "      <td>-0.098906</td>\n",
       "      <td>0.493415</td>\n",
       "    </tr>\n",
       "    <tr>\n",
       "      <th>28</th>\n",
       "      <td>i've been publishing my music on here for 2 ye...</td>\n",
       "      <td>0.021875</td>\n",
       "      <td>0.557292</td>\n",
       "    </tr>\n",
       "    <tr>\n",
       "      <th>32</th>\n",
       "      <td>Ive used SoundCloud for years. First issue was...</td>\n",
       "      <td>0.089773</td>\n",
       "      <td>0.423548</td>\n",
       "    </tr>\n",
       "    <tr>\n",
       "      <th>...</th>\n",
       "      <td>...</td>\n",
       "      <td>...</td>\n",
       "      <td>...</td>\n",
       "    </tr>\n",
       "    <tr>\n",
       "      <th>8010</th>\n",
       "      <td>I cant wait to cancel this garbage app</td>\n",
       "      <td>0.000000</td>\n",
       "      <td>0.000000</td>\n",
       "    </tr>\n",
       "    <tr>\n",
       "      <th>8012</th>\n",
       "      <td>SOUNCLOUD please fix your app I need music and...</td>\n",
       "      <td>1.000000</td>\n",
       "      <td>1.000000</td>\n",
       "    </tr>\n",
       "    <tr>\n",
       "      <th>8014</th>\n",
       "      <td>Everytime I get on the app its slow as I dont ...</td>\n",
       "      <td>-0.300000</td>\n",
       "      <td>0.400000</td>\n",
       "    </tr>\n",
       "    <tr>\n",
       "      <th>8015</th>\n",
       "      <td>I was trying to make an account and it kept sa...</td>\n",
       "      <td>0.000000</td>\n",
       "      <td>0.000000</td>\n",
       "    </tr>\n",
       "    <tr>\n",
       "      <th>8022</th>\n",
       "      <td>Why is almost every song a 30 second preview now</td>\n",
       "      <td>0.000000</td>\n",
       "      <td>0.000000</td>\n",
       "    </tr>\n",
       "  </tbody>\n",
       "</table>\n",
       "<p>1131 rows × 3 columns</p>\n",
       "</div>"
      ],
      "text/plain": [
       "                                                 Review  polarity  subjective\n",
       "2     I got a free trial. When that free trial was u...  0.335369    0.459091\n",
       "4     A couple years ago I wouldve given 10/5 stars ... -0.037500    0.462434\n",
       "27    The app has always been painfully slow, but it... -0.098906    0.493415\n",
       "28    i've been publishing my music on here for 2 ye...  0.021875    0.557292\n",
       "32    Ive used SoundCloud for years. First issue was...  0.089773    0.423548\n",
       "...                                                 ...       ...         ...\n",
       "8010             I cant wait to cancel this garbage app  0.000000    0.000000\n",
       "8012  SOUNCLOUD please fix your app I need music and...  1.000000    1.000000\n",
       "8014  Everytime I get on the app its slow as I dont ... -0.300000    0.400000\n",
       "8015  I was trying to make an account and it kept sa...  0.000000    0.000000\n",
       "8022  Why is almost every song a 30 second preview now   0.000000    0.000000\n",
       "\n",
       "[1131 rows x 3 columns]"
      ]
     },
     "execution_count": 66,
     "metadata": {},
     "output_type": "execute_result"
    }
   ],
   "source": [
    "OneStarComments"
   ]
  },
  {
   "cell_type": "markdown",
   "metadata": {},
   "source": [
    "## Bigrams and Trigrams"
   ]
  },
  {
   "cell_type": "code",
   "execution_count": 58,
   "metadata": {},
   "outputs": [
    {
     "name": "stderr",
     "output_type": "stream",
     "text": [
      "c:\\Users\\nickb\\Anaconda3\\lib\\site-packages\\sklearn\\feature_extraction\\text.py:383: UserWarning: Your stop_words may be inconsistent with your preprocessing. Tokenizing the stop words generated tokens ['souncloud', 'soundcloud'] not in stop_words.\n",
      "  warnings.warn('Your stop_words may be inconsistent with '\n"
     ]
    }
   ],
   "source": [
    "from nltk.corpus import stopwords\n",
    "stoplist = stopwords.words('english') + ['SOUNCLOUD'] + ['Soundcloud']\n",
    "\n",
    "from sklearn.feature_extraction.text import CountVectorizer\n",
    "\n",
    "c_vec = CountVectorizer(stop_words=stoplist, ngram_range=(2,3))\n",
    "\n",
    "# matrix of ngrams\n",
    "ngrams = c_vec.fit_transform(OneStar['Review'])\n",
    "\n",
    "# count frequency of ngrams\n",
    "count_values = ngrams.toarray().sum(axis=0)\n",
    "\n",
    "# list of ngrams\n",
    "vocab = c_vec.vocabulary_\n",
    "df_ngram = pd.DataFrame(sorted([(count_values[i],k) for k,i in vocab.items()], reverse=True)\n",
    "            ).rename(columns={0: 'frequency', 1:'bigram/trigram'})\n"
   ]
  },
  {
   "cell_type": "code",
   "execution_count": 59,
   "metadata": {},
   "outputs": [
    {
     "data": {
      "text/html": [
       "<div>\n",
       "<style scoped>\n",
       "    .dataframe tbody tr th:only-of-type {\n",
       "        vertical-align: middle;\n",
       "    }\n",
       "\n",
       "    .dataframe tbody tr th {\n",
       "        vertical-align: top;\n",
       "    }\n",
       "\n",
       "    .dataframe thead th {\n",
       "        text-align: right;\n",
       "    }\n",
       "</style>\n",
       "<table border=\"1\" class=\"dataframe\">\n",
       "  <thead>\n",
       "    <tr style=\"text-align: right;\">\n",
       "      <th></th>\n",
       "      <th>frequency</th>\n",
       "      <th>bigram/trigram</th>\n",
       "    </tr>\n",
       "  </thead>\n",
       "  <tbody>\n",
       "    <tr>\n",
       "      <th>0</th>\n",
       "      <td>99</td>\n",
       "      <td>every song</td>\n",
       "    </tr>\n",
       "    <tr>\n",
       "      <th>1</th>\n",
       "      <td>89</td>\n",
       "      <td>soundcloud go</td>\n",
       "    </tr>\n",
       "    <tr>\n",
       "      <th>2</th>\n",
       "      <td>86</td>\n",
       "      <td>listen music</td>\n",
       "    </tr>\n",
       "    <tr>\n",
       "      <th>3</th>\n",
       "      <td>56</td>\n",
       "      <td>please fix</td>\n",
       "    </tr>\n",
       "    <tr>\n",
       "      <th>4</th>\n",
       "      <td>49</td>\n",
       "      <td>every time</td>\n",
       "    </tr>\n",
       "    <tr>\n",
       "      <th>...</th>\n",
       "      <td>...</td>\n",
       "      <td>...</td>\n",
       "    </tr>\n",
       "    <tr>\n",
       "      <th>37223</th>\n",
       "      <td>1</td>\n",
       "      <td>00 time</td>\n",
       "    </tr>\n",
       "    <tr>\n",
       "      <th>37224</th>\n",
       "      <td>1</td>\n",
       "      <td>00 sub use</td>\n",
       "    </tr>\n",
       "    <tr>\n",
       "      <th>37225</th>\n",
       "      <td>1</td>\n",
       "      <td>00 sub</td>\n",
       "    </tr>\n",
       "    <tr>\n",
       "      <th>37226</th>\n",
       "      <td>1</td>\n",
       "      <td>00 figured would</td>\n",
       "    </tr>\n",
       "    <tr>\n",
       "      <th>37227</th>\n",
       "      <td>1</td>\n",
       "      <td>00 figured</td>\n",
       "    </tr>\n",
       "  </tbody>\n",
       "</table>\n",
       "<p>37228 rows × 2 columns</p>\n",
       "</div>"
      ],
      "text/plain": [
       "       frequency    bigram/trigram\n",
       "0             99        every song\n",
       "1             89     soundcloud go\n",
       "2             86      listen music\n",
       "3             56        please fix\n",
       "4             49        every time\n",
       "...          ...               ...\n",
       "37223          1           00 time\n",
       "37224          1        00 sub use\n",
       "37225          1            00 sub\n",
       "37226          1  00 figured would\n",
       "37227          1        00 figured\n",
       "\n",
       "[37228 rows x 2 columns]"
      ]
     },
     "execution_count": 59,
     "metadata": {},
     "output_type": "execute_result"
    }
   ],
   "source": [
    "df_ngram.drop(df_ngram.filter(regex='^soundcloud').columns, axis=1)"
   ]
  },
  {
   "cell_type": "markdown",
   "metadata": {},
   "source": [
    "## Topic Modeling"
   ]
  },
  {
   "cell_type": "markdown",
   "metadata": {},
   "source": [
    "### Non-Negative Matrix Factorization (NMF)"
   ]
  },
  {
   "cell_type": "code",
   "execution_count": 67,
   "metadata": {},
   "outputs": [
    {
     "name": "stderr",
     "output_type": "stream",
     "text": [
      "c:\\Users\\nickb\\Anaconda3\\lib\\site-packages\\sklearn\\feature_extraction\\text.py:383: UserWarning: Your stop_words may be inconsistent with your preprocessing. Tokenizing the stop words generated tokens ['souncloud', 'soundcloud'] not in stop_words.\n",
      "  warnings.warn('Your stop_words may be inconsistent with '\n"
     ]
    },
    {
     "data": {
      "text/plain": [
       "Pipeline(steps=[('tfidfvectorizer',\n",
       "                 TfidfVectorizer(ngram_range=(2, 3),\n",
       "                                 stop_words=['i', 'me', 'my', 'myself', 'we',\n",
       "                                             'our', 'ours', 'ourselves', 'you',\n",
       "                                             \"you're\", \"you've\", \"you'll\",\n",
       "                                             \"you'd\", 'your', 'yours',\n",
       "                                             'yourself', 'yourselves', 'he',\n",
       "                                             'him', 'his', 'himself', 'she',\n",
       "                                             \"she's\", 'her', 'hers', 'herself',\n",
       "                                             'it', \"it's\", 'its', 'itself', ...])),\n",
       "                ('nmf', NMF(n_components=3))])"
      ]
     },
     "execution_count": 67,
     "metadata": {},
     "output_type": "execute_result"
    }
   ],
   "source": [
    "# Source: https://scikit-learn.org/stable/auto_examples/applications/plot_topics_extraction_with_nmf_lda.html\n",
    "from sklearn.feature_extraction.text import TfidfVectorizer\n",
    "from sklearn.decomposition import NMF\n",
    "from sklearn.pipeline import make_pipeline\n",
    "\n",
    "tfidf_vectorizer = TfidfVectorizer(stop_words=stoplist, ngram_range=(2,3))\n",
    "nmf = NMF(n_components=3)\n",
    "pipe = make_pipeline(tfidf_vectorizer, nmf)\n",
    "pipe.fit(OneStarComments['Review'])"
   ]
  },
  {
   "cell_type": "code",
   "execution_count": 68,
   "metadata": {},
   "outputs": [],
   "source": [
    "def print_top_words(model, feature_names, n_top_words):\n",
    "    for topic_idx, topic in enumerate(model.components_):\n",
    "        message = \"Topic #%d: \" % topic_idx\n",
    "        message += \", \".join([feature_names[i]\n",
    "                             for i in topic.argsort()[:-n_top_words - 1:-1]])\n",
    "        print(message)\n",
    "    print()"
   ]
  },
  {
   "cell_type": "code",
   "execution_count": 69,
   "metadata": {},
   "outputs": [
    {
     "name": "stdout",
     "output_type": "stream",
     "text": [
      "Topic #0: every song, ad every song, ad every\n",
      "Topic #1: ads every, ads every songs, every songs\n",
      "Topic #2: soundcloud go, listen music, cant listen\n",
      "\n"
     ]
    }
   ],
   "source": [
    "print_top_words(nmf, tfidf_vectorizer.get_feature_names(), n_top_words=3)"
   ]
  },
  {
   "cell_type": "markdown",
   "metadata": {},
   "source": [
    "It seems like people think there are way too many ads and there are issues with Soundcloud Go, which allows (or doesn't allow according to some reviewers) offline listening."
   ]
  },
  {
   "cell_type": "markdown",
   "metadata": {},
   "source": [
    "TO DO:\n",
    "- Make Years Display in better way.\n",
    "- Plot Version Control Points https://developer.apple.com/documentation/appstoreconnectapi/list_all_app_store_versions_for_an_app"
   ]
  },
  {
   "cell_type": "markdown",
   "metadata": {},
   "source": [
    "### Visualizations (not working)\n",
    "https://www.earthdatascience.org/courses/use-data-open-source-python/intro-to-apis/calculate-tweet-word-bigrams/"
   ]
  },
  {
   "cell_type": "code",
   "execution_count": null,
   "metadata": {},
   "outputs": [],
   "source": [
    "# Create dictionary of bigrams and their counts\n",
    "d = df_ngram.set_index('bigram/trigram').T.to_dict('records')"
   ]
  },
  {
   "cell_type": "code",
   "execution_count": null,
   "metadata": {},
   "outputs": [],
   "source": [
    "# pip install networkx"
   ]
  },
  {
   "cell_type": "code",
   "execution_count": null,
   "metadata": {},
   "outputs": [],
   "source": [
    "import networkx as nx"
   ]
  },
  {
   "cell_type": "code",
   "execution_count": null,
   "metadata": {},
   "outputs": [],
   "source": [
    "# Create network plot \n",
    "G = nx.Graph()\n",
    "\n",
    "# Create connections between nodes\n",
    "for k, v in d[0].items():\n",
    "    G.add_edge(k[0], k[1], weight=(v * 10))\n",
    "\n",
    "G.add_node(\"china\", weight=100)"
   ]
  },
  {
   "cell_type": "markdown",
   "metadata": {},
   "source": [
    "# Reframe App"
   ]
  },
  {
   "cell_type": "code",
   "execution_count": null,
   "metadata": {},
   "outputs": [],
   "source": [
    "import pandas as pd\n",
    "from app_store_scraper import AppStore\n",
    "from pprint import pprint\n",
    "\n",
    "Reframe = AppStore(country=\"us\", app_name=\"reframe-drink-less-thrive\")\n",
    "Reframe.review(how_many=5000)\n",
    "\n",
    "pprint(Reframe.reviews)\n",
    "pprint(Reframe.reviews_count)\n",
    "\n",
    "Data = pd.json_normalize(Reframe.reviews)\n",
    "\n",
    "import nltk\n",
    "from nltk.tokenize import sent_tokenize\n",
    "from nltk.probability import FreqDist\n",
    "from nltk.corpus import stopwords\n",
    "import matplotlib.pyplot as plt\n",
    "import spacy\n",
    "import re\n",
    "import string\n",
    "import nlp\n",
    "\n",
    "Data[\"index\"] = range(0,905)\n",
    "Data = Data.set_index(\"index\")\n",
    "Data.head()\n",
    "\n",
    "#Extract only survey comments\n",
    "comments = Data['review']\n",
    "comments = comments.astype('str')\n",
    "\n",
    "#Defining function to remove non-ascii characters\n",
    "def _removeNonAscii(s): return \"\".join(i for i in s if ord(i)<128)\n",
    "\n",
    "#Removing the non-ascii characters\n",
    "comments = comments.map(lambda x: _removeNonAscii(x))"
   ]
  },
  {
   "cell_type": "code",
   "execution_count": null,
   "metadata": {},
   "outputs": [],
   "source": [
    "df = df.merge(Data, how='left')"
   ]
  },
  {
   "cell_type": "markdown",
   "metadata": {},
   "source": [
    "https://towardsdatascience.com/text-analysis-basics-in-python-443282942ec5"
   ]
  },
  {
   "cell_type": "code",
   "execution_count": null,
   "metadata": {},
   "outputs": [],
   "source": [
    "from textblob import TextBlob\n",
    "df['polarity'] = df['review'].apply(lambda x: TextBlob(x).polarity)\n",
    "df['subjective'] = df['review'].apply(lambda x: TextBlob(x).subjectivity)"
   ]
  },
  {
   "cell_type": "code",
   "execution_count": null,
   "metadata": {},
   "outputs": [],
   "source": [
    "from nltk.corpus import stopwords\n",
    "\n",
    "stoplist = stopwords.words('english') + ['though']\n",
    "\n",
    "from sklearn.feature_extraction.text import CountVectorizer\n",
    "c_vec = CountVectorizer(stop_words=stoplist, ngram_range=(2,3))\n",
    "# matrix of ngrams\n",
    "ngrams = c_vec.fit_transform(df['review'])\n",
    "# count frequency of ngrams\n",
    "count_values = ngrams.toarray().sum(axis=0)\n",
    "# list of ngrams\n",
    "vocab = c_vec.vocabulary_\n",
    "df_ngram = pd.DataFrame(sorted([(count_values[i],k) for k,i in vocab.items()], reverse=True)\n",
    "            ).rename(columns={0: 'frequency', 1:'bigram/trigram'})"
   ]
  },
  {
   "cell_type": "code",
   "execution_count": null,
   "metadata": {},
   "outputs": [],
   "source": [
    "df_ngram['polarity'] = df_ngram['bigram/trigram'].apply(lambda x: TextBlob(x).polarity)\n",
    "df_ngram['subjective'] = df_ngram['bigram/trigram'].apply(lambda x: TextBlob(x).subjectivity)"
   ]
  },
  {
   "cell_type": "code",
   "execution_count": null,
   "metadata": {},
   "outputs": [],
   "source": [
    "df_ngram.head()"
   ]
  },
  {
   "cell_type": "code",
   "execution_count": null,
   "metadata": {},
   "outputs": [],
   "source": [
    "# Source: https://scikit-learn.org/stable/auto_examples/applications/plot_topics_extraction_with_nmf_lda.html\n",
    "\n",
    "from sklearn.feature_extraction.text import TfidfVectorizer\n",
    "from sklearn.decomposition import NMF\n",
    "from sklearn.pipeline import make_pipeline\n",
    "\n",
    "tfidf_vectorizer = TfidfVectorizer(stop_words=stoplist, ngram_range=(2,3))\n",
    "nmf = NMF(n_components=3)\n",
    "pipe = make_pipeline(tfidf_vectorizer, nmf)\n",
    "pipe.fit(df['review'])\n",
    "\n",
    "def print_top_words(model, feature_names, n_top_words):\n",
    "    for topic_idx, topic in enumerate(model.components_):\n",
    "        message = \"Topic #%d: \" % topic_idx\n",
    "        message += \", \".join([feature_names[i]\n",
    "                             for i in topic.argsort()[:-n_top_words - 1:-1]])\n",
    "        print(message)\n",
    "    print()\n",
    "\n",
    "print_top_words(nmf, tfidf_vectorizer.get_feature_names_out(), n_top_words=3)"
   ]
  },
  {
   "cell_type": "code",
   "execution_count": null,
   "metadata": {},
   "outputs": [],
   "source": [
    "# Source: https://scikit-learn.org/stable/auto_examples/applications/plot_topics_extraction_with_nmf_lda.html\n",
    "\n",
    "from sklearn.decomposition import LatentDirichletAllocation\n",
    "\n",
    "tfidf_vectorizer = TfidfVectorizer(stop_words=stoplist, ngram_range=(2,3))\n",
    "lda = LatentDirichletAllocation(n_components=3)\n",
    "pipe = make_pipeline(tfidf_vectorizer, lda)\n",
    "pipe.fit(df['review'])\n",
    "\n",
    "def print_top_words(model, feature_names, n_top_words):\n",
    "    for topic_idx, topic in enumerate(model.components_):\n",
    "        message = \"Topic #%d: \" % topic_idx\n",
    "        message += \", \".join([feature_names[i]\n",
    "                             for i in topic.argsort()[:-n_top_words - 1:-1]])\n",
    "        print(message)\n",
    "    print()\n",
    "\n",
    "print_top_words(lda, tfidf_vectorizer.get_feature_names_out(), n_top_words=3)"
   ]
  },
  {
   "cell_type": "markdown",
   "metadata": {},
   "source": [
    "https://towardsdatascience.com/rule-based-sentiment-analysis-of-app-store-review-in-python-94d8bbfc48bb"
   ]
  },
  {
   "cell_type": "code",
   "execution_count": null,
   "metadata": {},
   "outputs": [],
   "source": [
    "# pip install vaderSentiment"
   ]
  },
  {
   "cell_type": "code",
   "execution_count": null,
   "metadata": {},
   "outputs": [],
   "source": [
    "from vaderSentiment.vaderSentiment import SentimentIntensityAnalyzer\n",
    "\n",
    "analyzer = SentimentIntensityAnalyzer()\n",
    "\n",
    "def calc_vader_sentiment(text):\n",
    "    sentiment = 1\n",
    "    vs = analyzer.polarity_scores(str(text))\n",
    "    compound = vs['compound']\n",
    "    if(compound == 0):\n",
    "        sentiment = -1\n",
    "    elif(compound >= 0.05):\n",
    "        sentiment = 2\n",
    "    elif(compound <= -0.05):\n",
    "        sentiment = 0\n",
    "    return sentiment"
   ]
  },
  {
   "cell_type": "code",
   "execution_count": null,
   "metadata": {},
   "outputs": [],
   "source": [
    "df = pd.DataFrame({\n",
    "    'uid': list(df_coc.index.values),\n",
    "    'text': df_coc['Content'],\n",
    "    'label': [calc_vader_sentiment(x) for x in df_coc['Content']]\n",
    "})"
   ]
  },
  {
   "cell_type": "code",
   "execution_count": null,
   "metadata": {},
   "outputs": [],
   "source": [
    "# #Clean and lemmatize comments\n",
    "# def clean_comments(text):\n",
    "#     #remove punctuations\n",
    "#     regex = re.compile('[' + re.escape(string.punctuation) + '\\\\r\\\\t\\\\n]')\n",
    "#     nopunct = regex.sub(\" \", str(text))\n",
    "#     #use spacy to lemmatize comments\n",
    "#     doc = nlp(nopunct, disable=['parser','ner'])\n",
    "#     lemma = [token.lemma_ for token in doc]\n",
    "#     return lemma\n",
    "\n",
    "# #Apply function to clean and lemmatize comments\n",
    "# lemmatized = comments.map(clean_comments)\n",
    "\n",
    "# #Lowercase everything\n",
    "# lemmatized = lemmatized.map(lambda x: [word.lower() for word in x])\n",
    "\n",
    "# #All comment tokens into one single list\n",
    "# unlist_comments = [item for items in lemmatized for item in items]\n",
    "\n",
    "# #Getting list of stopwords - noise\n",
    "# stopwords = nltk.corpus.stopwords.words('english')\n",
    "\n",
    "# #Adding to list\n",
    "# newStopWords = [' ','get']\n",
    "# stopwords.extend(newStopWords)\n",
    "\n",
    "# #Removing Stopwords\n",
    "# filtered_sent=[]\n",
    "# for w in unlist_comments:\n",
    "#     if w not in stopwords:\n",
    "#         filtered_sent.append(w)\n",
    "# # print(\"Tokenized Sentence:\", unlist_comments)\n",
    "# # print(\"Filtered Sentence:\", filtered_sent)\n",
    "\n",
    "# #Frequency Distribution\n",
    "# fdist = FreqDist(filtered_sent)\n",
    "\n",
    "# fdist.most_common(10)\n",
    "\n",
    "# #Plot the Distribution\n",
    "# fdist.plot(5, cumulative = False)\n",
    "\n",
    "# #Collocation\n",
    "# bigrams = nltk.collocations.BigramAssocMeasures()\n",
    "# trigrams = nltk.collocations.TrigramAssocMeasures()\n",
    "# bigramFinder = nltk.collocations.BigramCollocationFinder.from_words(filtered_sent)\n",
    "# trigramFinder = nltk.collocations.TrigramCollocationFinder.from_words(filtered_sent)\n",
    "\n",
    "# #bigrams\n",
    "# bigram_freq = bigramFinder.ngram_fd.items()\n",
    "# bigramFreqTable = pd.DataFrame(list(bigram_freq), columns=['bigram','freq']).sort_values(by='freq', ascending=False)\n",
    "# #trigrams\n",
    "# trigram_freq = trigramFinder.ngram_fd.items()\n",
    "# trigramFreqTable = pd.DataFrame(list(trigram_freq), columns=['trigram','freq']).sort_values(by='freq', ascending=False)\n",
    "\n",
    "# print(bigramFreqTable)\n",
    "# print(trigramFreqTable)"
   ]
  },
  {
   "cell_type": "code",
   "execution_count": null,
   "metadata": {},
   "outputs": [],
   "source": [
    "df['review_len'] = df['review'].astype(str).apply(len)\n",
    "df['word_count'] = df['review'].apply(lambda x: len(str(x).split()))"
   ]
  },
  {
   "cell_type": "code",
   "execution_count": null,
   "metadata": {},
   "outputs": [],
   "source": [
    "df[[\"review_len\", \"word_count\", \"polarity\"]].hist(bins=20, figsize=(15, 10))"
   ]
  },
  {
   "cell_type": "code",
   "execution_count": null,
   "metadata": {},
   "outputs": [],
   "source": [
    "text = \" \".join(review for review in df.review)\n",
    "\n",
    "from wordcloud import WordCloud, STOPWORDS, ImageColorGenerator\n",
    "stopwords = set(STOPWORDS)\n",
    "stopwords = stopwords.union([\"ha\", \"thi\", \"now\", \"onli\", \"im\", \"becaus\", \"wa\", \"will\", \"even\", \"go\", \"realli\", \"didnt\", \"abl\"])\n",
    "wordcl = WordCloud(stopwords = stopwords, background_color='white', max_font_size = 50, max_words = 5000).generate(text)\n",
    "plt.figure(figsize=(14, 12))\n",
    "plt.imshow(wordcl, interpolation='bilinear')\n",
    "plt.axis('off')\n",
    "plt.show()"
   ]
  },
  {
   "cell_type": "code",
   "execution_count": null,
   "metadata": {},
   "outputs": [],
   "source": [
    "# https://thecleverprogrammer.com/2021/05/31/google-play-store-sentiment-analysis-using-python/\n",
    "\n",
    "import matplotlib.pyplot as plt\n",
    "import seaborn as sns\n",
    "plt.figure(figsize=(15, 10))\n",
    "sns.scatterplot(df['polarity'], df['subjective'], \n",
    "                hue = df['rating'],\n",
    "                edgecolor='white', palette=\"twilight_shifted_r\")\n",
    "plt.title(\"Reframe - Apple Store Reviews Sentiment Analysis\", fontsize=20)\n",
    "plt.show()"
   ]
  },
  {
   "cell_type": "code",
   "execution_count": null,
   "metadata": {},
   "outputs": [],
   "source": [
    "from nltk.stem import PorterStemmer\n",
    "st = PorterStemmer()\n",
    "df['review1'] = df['review'].apply(lambda x: \" \".join([st.stem(word) for word in x.split()]))"
   ]
  },
  {
   "cell_type": "code",
   "execution_count": null,
   "metadata": {},
   "outputs": [],
   "source": [
    "df['review1'] = df['review1'].str.replace('[^\\w\\s]', '')\n",
    "df['review1'].head()"
   ]
  },
  {
   "cell_type": "code",
   "execution_count": null,
   "metadata": {},
   "outputs": [],
   "source": [
    "plt.figure(figsize = (10, 8))\n",
    "sns.set_style('whitegrid')\n",
    "sns.set(font_scale = 1.5)\n",
    "sns.boxplot(x = 'rating', y = 'polarity', data = df)\n",
    "plt.xlabel(\"Rating\")\n",
    "plt.ylabel(\"Polatiry\")\n",
    "plt.title(\"Product Ratings vs Polarity\")\n",
    "plt.show()"
   ]
  },
  {
   "cell_type": "markdown",
   "metadata": {},
   "source": [
    "While it's great to see all the amazing feedback from folks, understanding users who are not happy with the app can give us insights on ways for improvement."
   ]
  },
  {
   "cell_type": "code",
   "execution_count": null,
   "metadata": {},
   "outputs": [],
   "source": [
    "df_below5 = df[df['rating'] < 5]"
   ]
  },
  {
   "cell_type": "code",
   "execution_count": null,
   "metadata": {},
   "outputs": [],
   "source": [
    "plt.figure(figsize=(8, 6))\n",
    "sns.countplot(x='rating', data=df_below5)\n",
    "plt.xlabel(\"Rating\")\n",
    "plt.title(\"Number of data of each rating\")\n",
    "plt.show()"
   ]
  },
  {
   "cell_type": "code",
   "execution_count": null,
   "metadata": {},
   "outputs": [],
   "source": [
    "def get_top_n_words(corpus, n=None):\n",
    "    vec=CountVectorizer().fit(corpus)\n",
    "    bag_of_words = vec.transform(corpus)\n",
    "    sum_words = bag_of_words.sum(axis=0)\n",
    "    words_freq = [(word, sum_words[0, idx]) for word, idx in vec.vocabulary_.items()]\n",
    "    words_freq =sorted(words_freq, key = lambda x: x[1], reverse=True)\n",
    "    return words_freq[:n]\n",
    "\n",
    "common_words = get_top_n_words(df['review1'], 20)\n",
    "df1 = pd.DataFrame(common_words, columns = ['review', 'count'])\n",
    "df1"
   ]
  },
  {
   "cell_type": "code",
   "execution_count": null,
   "metadata": {},
   "outputs": [],
   "source": [
    "df1.groupby('review').sum()['count'].sort_values(ascending=False).plot(\n",
    "    kind='bar',\n",
    "    figsize=(10, 6),\n",
    "    xlabel = \"Top Words\",\n",
    "    ylabel = \"Count\",\n",
    "    title = \"Bar Chart of Top Words Frequency\"\n",
    ")"
   ]
  },
  {
   "cell_type": "code",
   "execution_count": null,
   "metadata": {},
   "outputs": [],
   "source": [
    "def get_top_n_bigram(corpus, n=None):\n",
    "    vec = CountVectorizer(ngram_range=(2,2)).fit(corpus)\n",
    "    bag_of_words = vec.transform(corpus)\n",
    "    sum_words = bag_of_words.sum(axis=0)\n",
    "    words_freq = [(word, sum_words[0, idx]) for word, idx in vec.vocabulary_.items()]\n",
    "    words_freq =sorted(words_freq, key = lambda x: x[1], reverse=True)\n",
    "    return words_freq[:n]\n",
    "\n",
    "common_words2 = get_top_n_bigram(df['review'], 30)\n",
    "df2 = pd.DataFrame(common_words2, columns=['Review', \"Count\"])\n",
    "df2.head()"
   ]
  },
  {
   "cell_type": "code",
   "execution_count": null,
   "metadata": {},
   "outputs": [],
   "source": [
    "df2.groupby('Review').sum()['Count'].sort_values(ascending=False).plot(\n",
    "    kind='bar',\n",
    "    figsize=(12,6),\n",
    "    xlabel = \"Bigram Words\",\n",
    "    ylabel = \"Count\",\n",
    "    title = \"Bar chart of Bigrams Frequency\"\n",
    ")"
   ]
  },
  {
   "cell_type": "code",
   "execution_count": null,
   "metadata": {},
   "outputs": [],
   "source": [
    "def get_top_n_trigram(corpus, n=None):\n",
    "    vec = CountVectorizer(ngram_range=(3, 3), stop_words='english').fit(corpus)\n",
    "    bag_of_words = vec.transform(corpus)\n",
    "    sum_words = bag_of_words.sum(axis=0)\n",
    "    words_freq = [(word, sum_words[0, idx]) for word, idx in vec.vocabulary_.items()]\n",
    "    words_freq =sorted(words_freq, key = lambda x: x[1], reverse=True)\n",
    "    return words_freq[:n]\n",
    "\n",
    "common_words3 = get_top_n_trigram(df_below5['review'], 30)\n",
    "df3 = pd.DataFrame(common_words3, columns = ['Review' , 'Count'])\n",
    "df3.groupby('Review').sum()['Count'].sort_values(ascending=False).plot(\n",
    "    kind='bar',\n",
    "    figsize=(12,6),\n",
    "    xlabel = \"Trigram Words\",\n",
    "    ylabel = \"Count\",\n",
    "    title = \"Bar chart of Trigrams Frequency\"\n",
    ")"
   ]
  },
  {
   "cell_type": "markdown",
   "metadata": {},
   "source": [
    "It seems that many of the negative feedback centers on that the demographic targetted for the app is younger."
   ]
  },
  {
   "cell_type": "code",
   "execution_count": null,
   "metadata": {},
   "outputs": [],
   "source": [
    "# df_below5.groupby('review').sum()['count'].sort_values(ascending=False).plot(\n",
    "#     kind='bar',\n",
    "#     figsize=(10, 6),\n",
    "#     xlabel = \"Top Words\",\n",
    "#     ylabel = \"Count\",\n",
    "#     title = \"Bar Chart of Top Words Frequency\"\n",
    "# )"
   ]
  },
  {
   "cell_type": "code",
   "execution_count": null,
   "metadata": {},
   "outputs": [],
   "source": [
    "plt.figure(figsize=(8, 6))\n",
    "sns.countplot(x='rating', data=df)\n",
    "plt.xlabel(\"Rating\")\n",
    "plt.title(\"Number of data of each rating\")\n",
    "plt.show()"
   ]
  }
 ],
 "metadata": {
  "kernelspec": {
   "display_name": "Python 3.8.8 ('base')",
   "language": "python",
   "name": "python3"
  },
  "language_info": {
   "codemirror_mode": {
    "name": "ipython",
    "version": 3
   },
   "file_extension": ".py",
   "mimetype": "text/x-python",
   "name": "python",
   "nbconvert_exporter": "python",
   "pygments_lexer": "ipython3",
   "version": "3.8.8"
  },
  "orig_nbformat": 4,
  "vscode": {
   "interpreter": {
    "hash": "f54dced06304130cb951df2aee7df93dacfbf7e633c0fd529e7a54b52d93e61f"
   }
  }
 },
 "nbformat": 4,
 "nbformat_minor": 2
}
