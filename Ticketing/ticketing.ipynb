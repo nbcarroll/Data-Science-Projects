{
 "cells": [
  {
   "cell_type": "markdown",
   "metadata": {},
   "source": [
    "<h3> The Problem </h3>\n",
    "\n",
    "My background before I entered the Masters in Business Analytics program was Seattle University was in event production and I continue to produce events to this day. Ticketing Providers take a large percentage of every transaction and I sought out alternate options to avoid what are often exporbitant fees.\n",
    "While I was impressed by Linktree's 'Request Payment' Feature from a Patron/UX perspective, there were some disadvantages. As someone who throws events often with hundreds of attendees, this information wasn't provided\n",
    "in a centralized database anywhere either in an online portal or as an exportable csv (at least at the time of this project). While using Linktree, which take a miniscule fee of 0.5% for Pro Plan Transactions would save at a minimumum hundreds of dollars in ticketing fees, this was a major issue that would have resulted in hours and hours of manual data entry.\n",
    "\n",
    "<h3> The Solution </h3>\n",
    "Every time a user submitted a payment, I received an email notification. While the information was buried inside the body of the email, it was there.\n",
    "Google's Takeout feature provides an MBOX File containing all email information. From here, I converted this MBOX File to a CSV, but all the important information was contained in just a single cell on each row\n",
    "and this information was structured in a way that didn't allow for easier parsing of information through a program such as Excel.\n",
    "\n",
    "Having this information structured in a more coherent manner would allow for easier tracking of financial information for the event and allowed for a simpler list that could be used at the door when checking\n",
    "patrons in. In addition, providing a streamlined CSV containing information such as the day of the week of a ticket purchase and the time would provide a suitable foundation for conducting further analysis. "
   ]
  },
  {
   "cell_type": "code",
   "execution_count": 1,
   "metadata": {},
   "outputs": [],
   "source": [
    "import pandas as pd\n",
    "\n",
    "data = pd.read_csv(r'C:\\Users\\nickb\\Documents\\Research_TheNight\\Great Day Night For It\\Sep42020_Great Day For It\\TicketExport1.csv')"
   ]
  },
  {
   "cell_type": "code",
   "execution_count": 2,
   "metadata": {},
   "outputs": [
    {
     "data": {
      "text/html": [
       "<div>\n",
       "<style scoped>\n",
       "    .dataframe tbody tr th:only-of-type {\n",
       "        vertical-align: middle;\n",
       "    }\n",
       "\n",
       "    .dataframe tbody tr th {\n",
       "        vertical-align: top;\n",
       "    }\n",
       "\n",
       "    .dataframe thead th {\n",
       "        text-align: right;\n",
       "    }\n",
       "</style>\n",
       "<table border=\"1\" class=\"dataframe\">\n",
       "  <thead>\n",
       "    <tr style=\"text-align: right;\">\n",
       "      <th></th>\n",
       "      <th>Date</th>\n",
       "      <th>Subject</th>\n",
       "      <th>Message</th>\n",
       "    </tr>\n",
       "  </thead>\n",
       "  <tbody>\n",
       "    <tr>\n",
       "      <th>0</th>\n",
       "      <td>27/08/2022 12:18</td>\n",
       "      <td>Request received! via Linktree</td>\n",
       "      <td>Linktree ( https://url1741.linktr.ee/ls/click?...</td>\n",
       "    </tr>\n",
       "  </tbody>\n",
       "</table>\n",
       "</div>"
      ],
      "text/plain": [
       "               Date                         Subject  \\\n",
       "0  27/08/2022 12:18  Request received! via Linktree   \n",
       "\n",
       "                                             Message  \n",
       "0  Linktree ( https://url1741.linktr.ee/ls/click?...  "
      ]
     },
     "execution_count": 2,
     "metadata": {},
     "output_type": "execute_result"
    }
   ],
   "source": [
    "data.head(1)"
   ]
  },
  {
   "cell_type": "code",
   "execution_count": 3,
   "metadata": {},
   "outputs": [],
   "source": [
    "# Extracting Only Linktree Payment Emails from Email Export\n",
    "data = data[data['Subject'] == 'Request received! via Linktree']\n",
    "\n",
    "# Dropping Subject Colunmn\n",
    "data = data.drop(columns=['Subject'])\n",
    "\n",
    "# Extracting Tier Value\n",
    "data['Ticket Tier'] = data['Message'].str.split('Tier', 1).str[1].str[1]\n",
    "\n",
    "# Creating Email Column\n",
    "data['Email'] = data['Message'].str.split('From', 1).str[1:]\n",
    "\n",
    "import re as re\n",
    "\n",
    "def find_email(text):\n",
    "    email = re.findall(r'[\\w\\.-]+@[\\w\\.-]+',str(text))\n",
    "    return \",\".join(email)\n",
    "\n",
    "data['Email'] = data['Email'].apply(lambda x: find_email(x))\n",
    "\n",
    "# Removes first n character\n",
    "data['Email'] = data['Email'].str[1:]\n",
    "\n",
    "# Stripping Linktree Emails, so only users emails remain\n",
    "data['Email'] = data['Email'].map(lambda x: x.rstrip(',support@linktr.ee'))\n",
    "\n",
    "# Creating Name Column\n",
    "data['Ticket Name'] = data['Message'].str.split('Special instructions or details', 1).str[0:2].str[1]\n",
    "\n",
    "# Creating Amount Paid Column\n",
    "data['Amount Paid'] = data['Message'].str.split('$', 1).str[0:2].str[1]\n",
    "data['Amount Paid'] = data['Amount Paid'].str.split('\\(USD').str[0]\n",
    "\n",
    "# Converting Date Formats\n",
    "data['Date'] = pd.to_datetime(data['Date'])\n",
    "data['Date Purchased'] = data['Date'].dt.date\n",
    "data['Time Purchased'] = data['Date'].dt.time\n",
    "data['DOW Purchased'] = data['Date'].dt.day_name()\n",
    "\n",
    "# Sorting in Chronological Order\n",
    "data.sort_values(by=['Date Purchased', 'Time Purchased'])\n",
    "\n",
    "# Found missing value.Lynn Nakamura had a missing value, this assigns it there\n",
    "data.loc[data['Date'] == '2022-08-22 22:43:00','Amount Paid'] = 25.67\n",
    "\n",
    "data[\"Amount Paid\"] = pd.to_numeric(data['Amount Paid'], errors='ignore')\n",
    "\n",
    "# Gets Rid of New Lines, Back Slashes, etc.\n",
    "data = data.replace('\\r','', regex=True)\n",
    "data = data.replace('\\n','', regex=True)\n",
    "data = data.replace('-','', regex=True)\n",
    "\n",
    "# Removes View at linktree information cluttering column\n",
    "data['Ticket Name'] = data['Ticket Name'].str.split('View').str[0]\n",
    "\n",
    "data['Email'] = data['Email'].str.split(',').str[0]\n",
    "\n"
   ]
  },
  {
   "cell_type": "code",
   "execution_count": 42,
   "metadata": {},
   "outputs": [
    {
     "data": {
      "text/html": [
       "<div>\n",
       "<style scoped>\n",
       "    .dataframe tbody tr th:only-of-type {\n",
       "        vertical-align: middle;\n",
       "    }\n",
       "\n",
       "    .dataframe tbody tr th {\n",
       "        vertical-align: top;\n",
       "    }\n",
       "\n",
       "    .dataframe thead th {\n",
       "        text-align: right;\n",
       "    }\n",
       "</style>\n",
       "<table border=\"1\" class=\"dataframe\">\n",
       "  <thead>\n",
       "    <tr style=\"text-align: right;\">\n",
       "      <th></th>\n",
       "      <th>Date</th>\n",
       "      <th>Message</th>\n",
       "      <th>Ticket Tier</th>\n",
       "      <th>Email</th>\n",
       "      <th>Ticket Name</th>\n",
       "      <th>Amount Paid</th>\n",
       "      <th>Date Purchased</th>\n",
       "      <th>Time Purchased</th>\n",
       "      <th>DOW Purchased</th>\n",
       "    </tr>\n",
       "  </thead>\n",
       "  <tbody>\n",
       "    <tr>\n",
       "      <th>0</th>\n",
       "      <td>2022-08-27 12:18:00</td>\n",
       "      <td>Linktree ( https://url1741.linktr.ee/ls/click?...</td>\n",
       "      <td>4</td>\n",
       "      <td>julianfrawley@gmail.com</td>\n",
       "      <td>Julian Frawleyjulianfrawley@gmail.com</td>\n",
       "      <td>30.0</td>\n",
       "      <td>2022-08-27</td>\n",
       "      <td>12:18:00</td>\n",
       "      <td>Saturday</td>\n",
       "    </tr>\n",
       "  </tbody>\n",
       "</table>\n",
       "</div>"
      ],
      "text/plain": [
       "                 Date                                            Message  \\\n",
       "0 2022-08-27 12:18:00  Linktree ( https://url1741.linktr.ee/ls/click?...   \n",
       "\n",
       "  Ticket Tier                    Email                            Ticket Name  \\\n",
       "0           4  julianfrawley@gmail.com  Julian Frawleyjulianfrawley@gmail.com   \n",
       "\n",
       "   Amount Paid Date Purchased Time Purchased DOW Purchased  \n",
       "0         30.0     2022-08-27       12:18:00      Saturday  "
      ]
     },
     "execution_count": 42,
     "metadata": {},
     "output_type": "execute_result"
    }
   ],
   "source": [
    "data.head(1)"
   ]
  },
  {
   "cell_type": "markdown",
   "metadata": {},
   "source": [
    "While the solution isn't perfect (see 'Ticket Name'), it was a massive improvement on what came before."
   ]
  },
  {
   "cell_type": "code",
   "execution_count": 136,
   "metadata": {},
   "outputs": [],
   "source": [
    "# Exporting CSV\n",
    "data.to_csv (r'C:\\Users\\nickb\\Documents\\Research_TheNight\\Sep42020_Great Day For It\\PowderTicketingAug16\\powder_ticketing_afterprocessing.csv', index = False, header=True)"
   ]
  }
 ],
 "metadata": {
  "kernelspec": {
   "display_name": "Python 3.8.8 ('base')",
   "language": "python",
   "name": "python3"
  },
  "language_info": {
   "codemirror_mode": {
    "name": "ipython",
    "version": 3
   },
   "file_extension": ".py",
   "mimetype": "text/x-python",
   "name": "python",
   "nbconvert_exporter": "python",
   "pygments_lexer": "ipython3",
   "version": "3.8.8"
  },
  "orig_nbformat": 4,
  "vscode": {
   "interpreter": {
    "hash": "f54dced06304130cb951df2aee7df93dacfbf7e633c0fd529e7a54b52d93e61f"
   }
  }
 },
 "nbformat": 4,
 "nbformat_minor": 2
}
